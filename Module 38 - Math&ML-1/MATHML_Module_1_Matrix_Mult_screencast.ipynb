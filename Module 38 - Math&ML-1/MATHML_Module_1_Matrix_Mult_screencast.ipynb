{
 "cells": [
  {
   "cell_type": "code",
   "execution_count": 1,
   "metadata": {
    "collapsed": true
   },
   "outputs": [],
   "source": [
    "import numpy as np"
   ]
  },
  {
   "cell_type": "code",
   "execution_count": 2,
   "metadata": {
    "collapsed": true
   },
   "outputs": [],
   "source": [
    "# произведение матриц\n",
    "A=np.random.randint(5, 12, (3,3))\n",
    "B=np.random.randint(-2, 4, (3,3))"
   ]
  },
  {
   "cell_type": "code",
   "execution_count": 3,
   "metadata": {
    "collapsed": false
   },
   "outputs": [
    {
     "data": {
      "text/plain": [
       "array([[11,  8,  8],\n",
       "       [ 7,  7, 10],\n",
       "       [ 5, 11,  9]])"
      ]
     },
     "execution_count": 3,
     "metadata": {},
     "output_type": "execute_result"
    }
   ],
   "source": [
    "A"
   ]
  },
  {
   "cell_type": "code",
   "execution_count": 4,
   "metadata": {
    "collapsed": false
   },
   "outputs": [
    {
     "data": {
      "text/plain": [
       "array([[ 3,  1,  0],\n",
       "       [ 3, -1,  1],\n",
       "       [-1,  2,  3]])"
      ]
     },
     "execution_count": 4,
     "metadata": {},
     "output_type": "execute_result"
    }
   ],
   "source": [
    "B"
   ]
  },
  {
   "cell_type": "code",
   "execution_count": 5,
   "metadata": {
    "collapsed": false
   },
   "outputs": [
    {
     "data": {
      "text/plain": [
       "array([[33,  8,  0],\n",
       "       [21, -7, 10],\n",
       "       [-5, 22, 27]])"
      ]
     },
     "execution_count": 5,
     "metadata": {},
     "output_type": "execute_result"
    }
   ],
   "source": [
    "# Поэлементное умножение\n",
    "A*B"
   ]
  },
  {
   "cell_type": "code",
   "execution_count": 6,
   "metadata": {
    "collapsed": false
   },
   "outputs": [
    {
     "name": "stdout",
     "output_type": "stream",
     "text": [
      "[[49 19 32]\n",
      " [32 20 37]\n",
      " [39 12 38]]\n"
     ]
    }
   ],
   "source": [
    "# тип np.matrix\n",
    "A_m=np.matrix(A)\n",
    "B_m=np.matrix(B)\n",
    "print(A_m*B_m)"
   ]
  },
  {
   "cell_type": "code",
   "execution_count": 7,
   "metadata": {
    "collapsed": false
   },
   "outputs": [
    {
     "data": {
      "text/plain": [
       "array([[49, 19, 32],\n",
       "       [32, 20, 37],\n",
       "       [39, 12, 38]])"
      ]
     },
     "execution_count": 7,
     "metadata": {},
     "output_type": "execute_result"
    }
   ],
   "source": [
    "# Матричное умножение\n",
    "np.dot(A,B)"
   ]
  },
  {
   "cell_type": "code",
   "execution_count": 8,
   "metadata": {
    "collapsed": false
   },
   "outputs": [
    {
     "data": {
      "text/plain": [
       "array([[49, 19, 32],\n",
       "       [32, 20, 37],\n",
       "       [39, 12, 38]])"
      ]
     },
     "execution_count": 8,
     "metadata": {},
     "output_type": "execute_result"
    }
   ],
   "source": [
    "# Матричное умножение\n",
    "A@B"
   ]
  },
  {
   "cell_type": "code",
   "execution_count": 9,
   "metadata": {
    "collapsed": false
   },
   "outputs": [
    {
     "data": {
      "text/plain": [
       "array([[40, 31, 34],\n",
       "       [31, 28, 23],\n",
       "       [18, 39, 39]])"
      ]
     },
     "execution_count": 9,
     "metadata": {},
     "output_type": "execute_result"
    }
   ],
   "source": [
    "# Порядок умножения AB != BA\n",
    "B@A"
   ]
  },
  {
   "cell_type": "code",
   "execution_count": 10,
   "metadata": {
    "collapsed": false
   },
   "outputs": [
    {
     "name": "stdout",
     "output_type": "stream",
     "text": [
      "A:\n",
      " [[11  9 10  7  6]\n",
      " [ 6  8  9 11  9]\n",
      " [11 11  9  8 11]]\n",
      "B:\n",
      " [[-2  1]\n",
      " [ 1 -2]\n",
      " [ 0  2]\n",
      " [-1  1]\n",
      " [ 3  1]]\n"
     ]
    }
   ],
   "source": [
    "# Умножение прямоугольных матриц возможно не в любом порядке\n",
    "A=np.random.randint(5, 12, (3,5))\n",
    "B=np.random.randint(-2, 4, (5,2))\n",
    "print('A:\\n',A)\n",
    "print('B:\\n',B)"
   ]
  },
  {
   "cell_type": "code",
   "execution_count": 11,
   "metadata": {
    "collapsed": false
   },
   "outputs": [
    {
     "data": {
      "text/plain": [
       "array([[-2, 26],\n",
       "       [12, 28],\n",
       "       [14, 26]])"
      ]
     },
     "execution_count": 11,
     "metadata": {},
     "output_type": "execute_result"
    }
   ],
   "source": [
    "# Умножение прямоугольных матриц возможно не в любом порядке\n",
    "A@B"
   ]
  },
  {
   "cell_type": "code",
   "execution_count": 12,
   "metadata": {
    "collapsed": false
   },
   "outputs": [
    {
     "ename": "ValueError",
     "evalue": "matmul: Input operand 1 has a mismatch in its core dimension 0, with gufunc signature (n?,k),(k,m?)->(n?,m?) (size 3 is different from 2)",
     "output_type": "error",
     "traceback": [
      "\u001b[0;31m---------------------------------------------------------------------------\u001b[0m",
      "\u001b[0;31mValueError\u001b[0m                                Traceback (most recent call last)",
      "\u001b[0;32m/var/folders/w7/cr51clr955l_16zdnq7qncd40000gn/T/ipykernel_80194/3139469874.py\u001b[0m in \u001b[0;36m<module>\u001b[0;34m\u001b[0m\n\u001b[1;32m      1\u001b[0m \u001b[0;31m# Умножение прямоугольных матриц возможно не в любом порядке\u001b[0m\u001b[0;34m\u001b[0m\u001b[0;34m\u001b[0m\u001b[0m\n\u001b[0;32m----> 2\u001b[0;31m \u001b[0mB\u001b[0m\u001b[0;34m@\u001b[0m\u001b[0mA\u001b[0m\u001b[0;34m\u001b[0m\u001b[0;34m\u001b[0m\u001b[0m\n\u001b[0m",
      "\u001b[0;31mValueError\u001b[0m: matmul: Input operand 1 has a mismatch in its core dimension 0, with gufunc signature (n?,k),(k,m?)->(n?,m?) (size 3 is different from 2)"
     ]
    }
   ],
   "source": [
    "# Умножение прямоугольных матриц возможно не в любом порядке\n",
    "B@A"
   ]
  },
  {
   "cell_type": "code",
   "execution_count": 13,
   "metadata": {
    "collapsed": false
   },
   "outputs": [
    {
     "name": "stdout",
     "output_type": "stream",
     "text": [
      "shape of A: (3, 5)\n",
      "shape of B: (5, 2)\n",
      "shape of AB: (3, 2)\n"
     ]
    }
   ],
   "source": [
    "# размер произведения матриц\n",
    "print('shape of A:', np.shape(A))\n",
    "print('shape of B:', np.shape(B))\n",
    "print('shape of AB:', np.shape(A@B))"
   ]
  },
  {
   "cell_type": "code",
   "execution_count": 14,
   "metadata": {
    "collapsed": false
   },
   "outputs": [
    {
     "name": "stdout",
     "output_type": "stream",
     "text": [
      "A:\n",
      " [[-4  1 -2 -2]\n",
      " [ 2 -1  0 -4]\n",
      " [ 1  2 -3 -4]\n",
      " [-2 -2  0 -2]]\n",
      "D:\n",
      " [[ 1  0  0  0]\n",
      " [ 0  2  0  0]\n",
      " [ 0  0  0  0]\n",
      " [ 0  0  0 -1]]\n",
      "AD:\n",
      " [[-4  2  0  2]\n",
      " [ 2 -2  0  4]\n",
      " [ 1  4  0  4]\n",
      " [-2 -4  0  2]]\n",
      "DA:\n",
      " [[-4  1 -2 -2]\n",
      " [ 4 -2  0 -8]\n",
      " [ 0  0  0  0]\n",
      " [ 2  2  0  2]]\n"
     ]
    }
   ],
   "source": [
    "# умножение на специальные матрицы\n",
    "A=np.random.randint(-4, 4, (4,4))\n",
    "D=np.diag([1,2,0,-1])\n",
    "print('A:\\n',A)\n",
    "print('D:\\n',D)\n",
    "print('AD:\\n',A@D)\n",
    "print('DA:\\n',D@A)"
   ]
  },
  {
   "cell_type": "code",
   "execution_count": 15,
   "metadata": {
    "collapsed": false
   },
   "outputs": [
    {
     "data": {
      "text/plain": [
       "array([2, 6])"
      ]
     },
     "execution_count": 15,
     "metadata": {},
     "output_type": "execute_result"
    }
   ],
   "source": [
    "# умножение на одномерный массив numpy\n",
    "A=np.array([[1,0,1],[1,1,1]])\n",
    "b=np.array([-3,4,5])\n",
    "A@b"
   ]
  },
  {
   "cell_type": "code",
   "execution_count": 16,
   "metadata": {
    "collapsed": false
   },
   "outputs": [
    {
     "ename": "ValueError",
     "evalue": "matmul: Input operand 1 has a mismatch in its core dimension 0, with gufunc signature (n?,k),(k,m?)->(n?,m?) (size 2 is different from 3)",
     "output_type": "error",
     "traceback": [
      "\u001b[0;31m---------------------------------------------------------------------------\u001b[0m",
      "\u001b[0;31mValueError\u001b[0m                                Traceback (most recent call last)",
      "\u001b[0;32m/var/folders/w7/cr51clr955l_16zdnq7qncd40000gn/T/ipykernel_80194/3231511199.py\u001b[0m in \u001b[0;36m<module>\u001b[0;34m\u001b[0m\n\u001b[0;32m----> 1\u001b[0;31m \u001b[0mb\u001b[0m\u001b[0;34m@\u001b[0m\u001b[0mA\u001b[0m\u001b[0;34m\u001b[0m\u001b[0;34m\u001b[0m\u001b[0m\n\u001b[0m",
      "\u001b[0;31mValueError\u001b[0m: matmul: Input operand 1 has a mismatch in its core dimension 0, with gufunc signature (n?,k),(k,m?)->(n?,m?) (size 2 is different from 3)"
     ]
    }
   ],
   "source": [
    "b@A"
   ]
  },
  {
   "cell_type": "code",
   "execution_count": 17,
   "metadata": {
    "collapsed": false
   },
   "outputs": [
    {
     "name": "stdout",
     "output_type": "stream",
     "text": [
      "[[ 1  1  1]\n",
      " [ 1  0 -1]\n",
      " [-1  2 -1]] <class 'numpy.ndarray'>\n"
     ]
    }
   ],
   "source": [
    "# матрица Грама ортогональной системы векторов\n",
    "x=np.array([1,1,1])\n",
    "y=np.array([1,0,-1])\n",
    "z=np.array([-1,2,-1])\n",
    "A=np.array([x,y,z])\n",
    "print (A, type(A))"
   ]
  },
  {
   "cell_type": "code",
   "execution_count": 18,
   "metadata": {
    "collapsed": false
   },
   "outputs": [
    {
     "data": {
      "text/plain": [
       "array([[3, 0, 0],\n",
       "       [0, 2, 0],\n",
       "       [0, 0, 6]])"
      ]
     },
     "execution_count": 18,
     "metadata": {},
     "output_type": "execute_result"
    }
   ],
   "source": [
    "# матрица Грама ортогональной системы векторов\n",
    "A@A.T"
   ]
  },
  {
   "cell_type": "code",
   "execution_count": 19,
   "metadata": {
    "collapsed": false
   },
   "outputs": [
    {
     "name": "stdout",
     "output_type": "stream",
     "text": [
      "[[ 0.57735027  0.57735027  0.57735027]\n",
      " [ 0.70710678  0.         -0.70710678]\n",
      " [-0.40824829  0.81649658 -0.40824829]] <class 'numpy.ndarray'>\n"
     ]
    }
   ],
   "source": [
    "# матрица Грама ортонормированной системы векторов\n",
    "x_norm=x/np.linalg.norm(x)\n",
    "y_norm=y/np.linalg.norm(y)\n",
    "z_norm=z/np.linalg.norm(z)\n",
    "A_norm=np.array([x_norm,y_norm,z_norm])\n",
    "print (A_norm, type(A_norm))"
   ]
  },
  {
   "cell_type": "code",
   "execution_count": 20,
   "metadata": {
    "collapsed": false
   },
   "outputs": [
    {
     "data": {
      "text/plain": [
       "array([[1., 0., 0.],\n",
       "       [0., 1., 0.],\n",
       "       [0., 0., 1.]])"
      ]
     },
     "execution_count": 20,
     "metadata": {},
     "output_type": "execute_result"
    }
   ],
   "source": [
    "# матрица Грама ортонормированной системы векторов\n",
    "A_norm@A_norm.T"
   ]
  },
  {
   "cell_type": "code",
   "execution_count": 21,
   "metadata": {
    "collapsed": false
   },
   "outputs": [
    {
     "data": {
      "text/plain": [
       "array([[1., 0., 0.],\n",
       "       [0., 1., 0.],\n",
       "       [0., 0., 1.]])"
      ]
     },
     "execution_count": 21,
     "metadata": {},
     "output_type": "execute_result"
    }
   ],
   "source": [
    "# ортонормированные системы рулят! :)\n",
    "np.round(A_norm@A_norm.T,1)"
   ]
  }
 ],
 "metadata": {
  "kernelspec": {
   "display_name": "Python 3.9.7 ('base')",
   "language": "python",
   "name": "python3"
  },
  "language_info": {
   "codemirror_mode": {
    "name": "ipython",
    "version": 3
   },
   "file_extension": ".py",
   "mimetype": "text/x-python",
   "name": "python",
   "nbconvert_exporter": "python",
   "pygments_lexer": "ipython3",
   "version": "3.9.7"
  },
  "vscode": {
   "interpreter": {
    "hash": "214db4c70b1bc942313b235c1b40c372ae21c2ea84de05ae170b614d30d11a2d"
   }
  }
 },
 "nbformat": 4,
 "nbformat_minor": 2
}
