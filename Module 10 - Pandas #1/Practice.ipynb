{
 "cells": [
  {
   "cell_type": "markdown",
   "metadata": {},
   "source": [
    "### Задание 2.4\n",
    "\n",
    "В аптеку поступают партии лекарств. Их названия находятся в списке names, количество единиц товара находится в списке counts.\n",
    "\n",
    "Например:\n",
    "names=['chlorhexidine', 'cyntomycin', 'afobazol']\n",
    "counts=[15, 18, 7]\n",
    "\n",
    "Напишите функцию create_medications(names, counts), создающую Series medications, индексами которого являются названия лекарств names, а значениями — их количество в партии counts.\n",
    "Также напишите функцию get_percent(medications, name), которая возвращает долю товара с именем name от общего количества товаров в партии в процентах."
   ]
  },
  {
   "cell_type": "code",
   "execution_count": 95,
   "metadata": {},
   "outputs": [
    {
     "name": "stdout",
     "output_type": "stream",
     "text": [
      "37.5\n"
     ]
    }
   ],
   "source": [
    "import pandas as pd\n",
    "\n",
    "def create_medications(names, counts):\n",
    "    \"\"\"\n",
    "    Напишите функцию create_mediactions(names, counts), которая  создает Series medications,\n",
    "    индексами которой являются названия лекарств names, а значениями - их количество в поставке counts\n",
    "    \"\"\"\n",
    "    medications = pd.Series(data = counts, index = names, name = 'medications')\n",
    "    return medications\n",
    "   \n",
    "\n",
    "def get_percent(medications, name):\n",
    "    \"\"\"\n",
    "    А также напишите функцию get_percent(medications, name), которая возвращает долю количества товара\n",
    "    с именем name от общего количества товаров в поставке в процентах.\n",
    "    \"\"\"\n",
    "    s=sum(medications)\n",
    "    return medications[name]/s*100\n",
    "\n",
    "if __name__ == '__main__':\n",
    "    names=['chlorhexidine', 'cyntomycin', 'afobazol']\n",
    "    counts=[15, 18, 7]\n",
    "    medications = create_medications(names, counts)\n",
    "    print(get_percent(medications, \"chlorhexidine\")) #37.5"
   ]
  },
  {
   "cell_type": "markdown",
   "metadata": {},
   "source": [
    "### Задание 3.5\n",
    "\n",
    "Вы работаете аналитиком в компании ScienceYou. Ваша задача — проанализировать чистую прибыль.\n",
    "Доходы (income), расходы (expenses) и годы (years), соответствующие им, предоставлены вам в виде списков. \n",
    "\n",
    "Например:\n",
    "income = [478, 512, 196]\n",
    "expenses = [156, 130, 270]\n",
    "years = [2018, 2019, 2020]\n",
    "\n",
    "Создайте функцию create_companyDF(income, expenses, years), которая  возвращает DataFrame, составленный из входных данных со столбцами Income и Expenses и индексами, соответствующими годам рассматриваемого периода. Пример такого DataFrame представлен ниже.\n",
    "\tIncome \tExpenses\n",
    "2018 \t478 \t156\n",
    "2019 \t512 \t130\n",
    "2020 \t196 \t270\n",
    "\n",
    "Также напишите функцию get_profit(df, year), которая возвращает разницу между доходом и расходом, записанными в таблице df, за год year. Учтите, что если информация за запрашиваемый год не указана в вашей таблице, вам необходимо вернуть None.\n",
    "\n",
    "Подсказка\n",
    "Для проверки вхождения запрашиваемого года в перечень индексов таблицы вам поможет атрибут df.index, который возвращает список индексов таблицы.\n"
   ]
  },
  {
   "cell_type": "code",
   "execution_count": 96,
   "metadata": {},
   "outputs": [
    {
     "name": "stdout",
     "output_type": "stream",
     "text": [
      "-74\n",
      "None\n"
     ]
    }
   ],
   "source": [
    "import pandas as pd\n",
    "\n",
    "def create_companyDF(income, expenses, years):\n",
    "    \"\"\"\n",
    "    Создайте функцию create_companyDF(income, expenses, years), которая  возвращает DataFrame, \n",
    "    составленный из входных данных со столбцами “Income” и “Expenses” и индексами, соответствующим годам рассматриваемого периода.\n",
    "    \"\"\"\n",
    "    df = pd.DataFrame({\n",
    "        'Income': income,\n",
    "        'Expenses': expenses},\n",
    "        index = years)\n",
    "    #df = pd.DataFrame(income, expenses, years)\n",
    "    #print(df)\n",
    "    return df\n",
    "\n",
    "def get_profit(df, year):\n",
    "    \n",
    "    \"\"\"\n",
    "    А также напишите функцию get_profit(df, year), которая возвращает разницу между доходом и расходом, записанных в таблице df, за год year.\n",
    "    Учтите, что если информация за запрашиваемый год не указана в вашей таблице вам необходимо вернуть None. \n",
    "    \"\"\"\n",
    "    if year not in df.index : return None\n",
    "    profit = df.loc[year, 'Income'] - df.loc[year, 'Expenses']\n",
    "    return profit\n",
    "\n",
    "if __name__ == '__main__':\n",
    "    expenses = [156, 130, 270]\n",
    "    income = [478, 512, 196]\n",
    "    years = [2018, 2019, 2020]\n",
    "    \n",
    "    scienceyou = create_companyDF(income, expenses, years)\n",
    "    print(get_profit(scienceyou, 2020)) #-74\n",
    "    print(get_profit(scienceyou, 2040))"
   ]
  },
  {
   "cell_type": "markdown",
   "metadata": {},
   "source": [
    "### Задание 9\n",
    "Прочитать данные в DataFrame с именем student_data и ответить на следующие вопросы:\n",
    "\n",
    "9.1 Данные о скольких студентах содержатся в таблице?\n",
    "\n",
    "9.2 Каков балл по письму у студента под индексом 155?\n",
    "\n",
    "9.3 Сколько суммарно пропущенных значений в таблице?\n",
    "\n",
    "9.4 Сколько столбцов в таблице имеет тип данных object?\n",
    "\n",
    "9.5 Какой объём памяти (в килобайтах) занимает таблица?\n",
    "\n",
    "9.6 Каков у студентов средний балл по математике?\n",
    "\n",
    "9.7 Какая расовая группа является самой крупной в учебном заведении?\n",
    "\n",
    "9.8 Каков средний балл по чтению у студентов, которые посещали курсы подготовки к экзаменам?\n",
    "\n",
    "9.9 Сколько студентов получили 0 баллов по математике?\n",
    "\n",
    "9.10 Проверьте гипотезу: у студентов с оплачиваемым питанием средний балл по математике выше, чем у студентов с льготным питанием. В качестве ответа напишите наибольший средний балл по математике среди этих групп студентов.\n",
    "\n",
    "9.11 Каков процент студентов, родители которых имеют высшее образование уровня бакалавриата (bachelor's degree)?\n",
    "\n",
    "9.12 Насколько медианный балл по письму у студентов в расовой группе А отличается от среднего балла по письму у студентов в расовой группе C?"
   ]
  },
  {
   "cell_type": "code",
   "execution_count": 15,
   "metadata": {},
   "outputs": [
    {
     "name": "stdout",
     "output_type": "stream",
     "text": [
      "<class 'pandas.core.frame.DataFrame'>\n",
      "RangeIndex: 1000 entries, 0 to 999\n",
      "Data columns (total 8 columns):\n",
      " #   Column                       Non-Null Count  Dtype \n",
      "---  ------                       --------------  ----- \n",
      " 0   gender                       1000 non-null   object\n",
      " 1   race/ethnicity               1000 non-null   object\n",
      " 2   parental level of education  1000 non-null   object\n",
      " 3   lunch                        1000 non-null   object\n",
      " 4   test preparation course      1000 non-null   object\n",
      " 5   math score                   1000 non-null   int64 \n",
      " 6   reading score                1000 non-null   int64 \n",
      " 7   writing score                1000 non-null   int64 \n",
      "dtypes: int64(3), object(5)\n",
      "memory usage: 62.6+ KB\n"
     ]
    }
   ],
   "source": [
    "import pandas as pd\n",
    "stud_data = pd.read_csv('data/students_performance.csv', sep=',')\n",
    "stud_data.info()"
   ]
  },
  {
   "cell_type": "code",
   "execution_count": 21,
   "metadata": {},
   "outputs": [
    {
     "data": {
      "text/html": [
       "<div>\n",
       "<style scoped>\n",
       "    .dataframe tbody tr th:only-of-type {\n",
       "        vertical-align: middle;\n",
       "    }\n",
       "\n",
       "    .dataframe tbody tr th {\n",
       "        vertical-align: top;\n",
       "    }\n",
       "\n",
       "    .dataframe thead th {\n",
       "        text-align: right;\n",
       "    }\n",
       "</style>\n",
       "<table border=\"1\" class=\"dataframe\">\n",
       "  <thead>\n",
       "    <tr style=\"text-align: right;\">\n",
       "      <th></th>\n",
       "      <th>gender</th>\n",
       "      <th>race/ethnicity</th>\n",
       "      <th>parental level of education</th>\n",
       "      <th>lunch</th>\n",
       "      <th>test preparation course</th>\n",
       "      <th>math score</th>\n",
       "      <th>reading score</th>\n",
       "      <th>writing score</th>\n",
       "    </tr>\n",
       "  </thead>\n",
       "  <tbody>\n",
       "    <tr>\n",
       "      <th>0</th>\n",
       "      <td>female</td>\n",
       "      <td>group B</td>\n",
       "      <td>bachelor's degree</td>\n",
       "      <td>standard</td>\n",
       "      <td>none</td>\n",
       "      <td>72</td>\n",
       "      <td>72</td>\n",
       "      <td>74</td>\n",
       "    </tr>\n",
       "    <tr>\n",
       "      <th>1</th>\n",
       "      <td>female</td>\n",
       "      <td>group C</td>\n",
       "      <td>some college</td>\n",
       "      <td>standard</td>\n",
       "      <td>completed</td>\n",
       "      <td>69</td>\n",
       "      <td>90</td>\n",
       "      <td>88</td>\n",
       "    </tr>\n",
       "    <tr>\n",
       "      <th>2</th>\n",
       "      <td>female</td>\n",
       "      <td>group B</td>\n",
       "      <td>master's degree</td>\n",
       "      <td>standard</td>\n",
       "      <td>none</td>\n",
       "      <td>90</td>\n",
       "      <td>95</td>\n",
       "      <td>93</td>\n",
       "    </tr>\n",
       "    <tr>\n",
       "      <th>3</th>\n",
       "      <td>male</td>\n",
       "      <td>group A</td>\n",
       "      <td>associate's degree</td>\n",
       "      <td>free/reduced</td>\n",
       "      <td>none</td>\n",
       "      <td>47</td>\n",
       "      <td>57</td>\n",
       "      <td>44</td>\n",
       "    </tr>\n",
       "    <tr>\n",
       "      <th>4</th>\n",
       "      <td>male</td>\n",
       "      <td>group C</td>\n",
       "      <td>some college</td>\n",
       "      <td>standard</td>\n",
       "      <td>none</td>\n",
       "      <td>76</td>\n",
       "      <td>78</td>\n",
       "      <td>75</td>\n",
       "    </tr>\n",
       "  </tbody>\n",
       "</table>\n",
       "</div>"
      ],
      "text/plain": [
       "   gender race/ethnicity parental level of education         lunch  \\\n",
       "0  female        group B           bachelor's degree      standard   \n",
       "1  female        group C                some college      standard   \n",
       "2  female        group B             master's degree      standard   \n",
       "3    male        group A          associate's degree  free/reduced   \n",
       "4    male        group C                some college      standard   \n",
       "\n",
       "  test preparation course  math score  reading score  writing score  \n",
       "0                    none          72             72             74  \n",
       "1               completed          69             90             88  \n",
       "2                    none          90             95             93  \n",
       "3                    none          47             57             44  \n",
       "4                    none          76             78             75  "
      ]
     },
     "execution_count": 21,
     "metadata": {},
     "output_type": "execute_result"
    }
   ],
   "source": [
    "stud_data.head()"
   ]
  },
  {
   "cell_type": "code",
   "execution_count": 17,
   "metadata": {},
   "outputs": [
    {
     "data": {
      "text/plain": [
       "(1000, 8)"
      ]
     },
     "execution_count": 17,
     "metadata": {},
     "output_type": "execute_result"
    }
   ],
   "source": [
    "stud_data.shape"
   ]
  },
  {
   "cell_type": "code",
   "execution_count": 18,
   "metadata": {},
   "outputs": [
    {
     "data": {
      "text/plain": [
       "88"
      ]
     },
     "execution_count": 18,
     "metadata": {},
     "output_type": "execute_result"
    }
   ],
   "source": [
    "stud_data.loc[155, 'writing score']"
   ]
  },
  {
   "cell_type": "code",
   "execution_count": 19,
   "metadata": {},
   "outputs": [
    {
     "data": {
      "text/plain": [
       "66.089"
      ]
     },
     "execution_count": 19,
     "metadata": {},
     "output_type": "execute_result"
    }
   ],
   "source": [
    "stud_data['math score'].mean()"
   ]
  },
  {
   "cell_type": "code",
   "execution_count": 20,
   "metadata": {},
   "outputs": [
    {
     "data": {
      "text/plain": [
       "0    group C\n",
       "dtype: object"
      ]
     },
     "execution_count": 20,
     "metadata": {},
     "output_type": "execute_result"
    }
   ],
   "source": [
    "stud_data['race/ethnicity'].mode()"
   ]
  },
  {
   "cell_type": "markdown",
   "metadata": {},
   "source": []
  },
  {
   "cell_type": "code",
   "execution_count": 39,
   "metadata": {},
   "outputs": [
    {
     "data": {
      "text/plain": [
       "73.89385474860335"
      ]
     },
     "execution_count": 39,
     "metadata": {},
     "output_type": "execute_result"
    }
   ],
   "source": [
    "stud_data[stud_data['test preparation course'] == 'completed']['reading score'].mean()"
   ]
  },
  {
   "cell_type": "code",
   "execution_count": 40,
   "metadata": {},
   "outputs": [
    {
     "data": {
      "text/plain": [
       "gender                         1\n",
       "race/ethnicity                 1\n",
       "parental level of education    1\n",
       "lunch                          1\n",
       "test preparation course        1\n",
       "math score                     1\n",
       "reading score                  1\n",
       "writing score                  1\n",
       "dtype: int64"
      ]
     },
     "execution_count": 40,
     "metadata": {},
     "output_type": "execute_result"
    }
   ],
   "source": [
    "stud_data[stud_data['math score'] == 0].count()"
   ]
  },
  {
   "cell_type": "code",
   "execution_count": 53,
   "metadata": {},
   "outputs": [
    {
     "data": {
      "text/plain": [
       "70.03410852713178"
      ]
     },
     "execution_count": 53,
     "metadata": {},
     "output_type": "execute_result"
    }
   ],
   "source": [
    "stud_data[stud_data['lunch'] == 'standard']['math score'].mean()"
   ]
  },
  {
   "cell_type": "code",
   "execution_count": 52,
   "metadata": {},
   "outputs": [
    {
     "data": {
      "text/plain": [
       "58.92112676056338"
      ]
     },
     "execution_count": 52,
     "metadata": {},
     "output_type": "execute_result"
    }
   ],
   "source": [
    "stud_data[stud_data['lunch'] == 'free/reduced']['math score'].mean()"
   ]
  },
  {
   "cell_type": "code",
   "execution_count": 57,
   "metadata": {},
   "outputs": [
    {
     "data": {
      "text/plain": [
       "some college          22.6\n",
       "associate's degree    22.2\n",
       "high school           19.6\n",
       "some high school      17.9\n",
       "bachelor's degree     11.8\n",
       "master's degree        5.9\n",
       "Name: parental level of education, dtype: float64"
      ]
     },
     "execution_count": 57,
     "metadata": {},
     "output_type": "execute_result"
    }
   ],
   "source": [
    "stud_data['parental level of education'].value_counts(normalize=True)*100"
   ]
  },
  {
   "cell_type": "code",
   "execution_count": 62,
   "metadata": {},
   "outputs": [
    {
     "data": {
      "text/plain": [
       "-5.827586206896555"
      ]
     },
     "execution_count": 62,
     "metadata": {},
     "output_type": "execute_result"
    }
   ],
   "source": [
    "stud_data[stud_data['race/ethnicity'] == 'group A']['writing score'].median() - stud_data[stud_data['race/ethnicity'] == 'group C']['writing score'].mean()"
   ]
  }
 ],
 "metadata": {
  "interpreter": {
   "hash": "214db4c70b1bc942313b235c1b40c372ae21c2ea84de05ae170b614d30d11a2d"
  },
  "kernelspec": {
   "display_name": "Python 3.9.7 64-bit ('base': conda)",
   "language": "python",
   "name": "python3"
  },
  "language_info": {
   "codemirror_mode": {
    "name": "ipython",
    "version": 3
   },
   "file_extension": ".py",
   "mimetype": "text/x-python",
   "name": "python",
   "nbconvert_exporter": "python",
   "pygments_lexer": "ipython3",
   "version": "3.9.7"
  },
  "orig_nbformat": 4
 },
 "nbformat": 4,
 "nbformat_minor": 2
}
