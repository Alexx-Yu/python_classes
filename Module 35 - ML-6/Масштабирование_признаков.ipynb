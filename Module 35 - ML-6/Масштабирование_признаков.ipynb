{
  "cells": [
    {
      "cell_type": "code",
      "execution_count": 37,
      "metadata": {
        "id": "Gt9xbXDkgbxl"
      },
      "outputs": [],
      "source": [
        "import pandas as pd\n",
        "from sklearn.preprocessing import StandardScaler\n",
        "from sklearn.model_selection import train_test_split\n",
        "from sklearn.linear_model import LinearRegression\n",
        "from sklearn.metrics import mean_absolute_error"
      ]
    },
    {
      "cell_type": "markdown",
      "metadata": {
        "id": "UgdBUCd_gf7A"
      },
      "source": [
        "# Загрузка данных"
      ]
    },
    {
      "cell_type": "code",
      "execution_count": 38,
      "metadata": {
        "id": "r59nCfIZgfFs"
      },
      "outputs": [],
      "source": [
        "%%capture\n",
        "!wget https://www.dropbox.com/s/64ol9q9ssggz6f1/data_ford_price.xlsx"
      ]
    },
    {
      "cell_type": "code",
      "execution_count": 39,
      "metadata": {
        "id": "MByusU1Igr5J"
      },
      "outputs": [],
      "source": [
        "data = pd.read_excel('Data/data_ford_price.xlsx') "
      ]
    },
    {
      "cell_type": "markdown",
      "metadata": {
        "id": "8ZsYlQLvgwuj"
      },
      "source": [
        "## Предобработка данных"
      ]
    },
    {
      "cell_type": "code",
      "execution_count": 40,
      "metadata": {
        "colab": {
          "base_uri": "https://localhost:8080/"
        },
        "id": "835FtZkxgMxo",
        "outputId": "6f333c0e-2c25-4b1a-ddee-3711dc85a2a5"
      },
      "outputs": [],
      "source": [
        "data = data[['price', 'year', 'weather']]\n",
        "data.dropna(inplace = True)"
      ]
    },
    {
      "cell_type": "markdown",
      "metadata": {
        "id": "9cm6C0h3g5-Q"
      },
      "source": [
        "## Масштабирование"
      ]
    },
    {
      "cell_type": "code",
      "execution_count": 41,
      "metadata": {
        "id": "iDWbjVJqg4p3"
      },
      "outputs": [],
      "source": [
        "data_scaled = data.copy()\n",
        "col_names = ['price', 'weather']\n",
        "x = data_scaled[col_names]"
      ]
    },
    {
      "cell_type": "code",
      "execution_count": 42,
      "metadata": {
        "colab": {
          "base_uri": "https://localhost:8080/",
          "height": 419
        },
        "id": "s_8N_lmdg-6s",
        "outputId": "aa53aa0c-81d2-49b1-9a93-e63cdf15f855"
      },
      "outputs": [
        {
          "data": {
            "text/html": [
              "<div>\n",
              "<style scoped>\n",
              "    .dataframe tbody tr th:only-of-type {\n",
              "        vertical-align: middle;\n",
              "    }\n",
              "\n",
              "    .dataframe tbody tr th {\n",
              "        vertical-align: top;\n",
              "    }\n",
              "\n",
              "    .dataframe thead th {\n",
              "        text-align: right;\n",
              "    }\n",
              "</style>\n",
              "<table border=\"1\" class=\"dataframe\">\n",
              "  <thead>\n",
              "    <tr style=\"text-align: right;\">\n",
              "      <th></th>\n",
              "      <th>price</th>\n",
              "      <th>year</th>\n",
              "      <th>weather</th>\n",
              "    </tr>\n",
              "  </thead>\n",
              "  <tbody>\n",
              "    <tr>\n",
              "      <th>0</th>\n",
              "      <td>2.558728</td>\n",
              "      <td>2016</td>\n",
              "      <td>0.862068</td>\n",
              "    </tr>\n",
              "    <tr>\n",
              "      <th>1</th>\n",
              "      <td>0.067373</td>\n",
              "      <td>2009</td>\n",
              "      <td>-0.017965</td>\n",
              "    </tr>\n",
              "    <tr>\n",
              "      <th>2</th>\n",
              "      <td>-1.072197</td>\n",
              "      <td>2002</td>\n",
              "      <td>-0.897998</td>\n",
              "    </tr>\n",
              "    <tr>\n",
              "      <th>3</th>\n",
              "      <td>-1.176990</td>\n",
              "      <td>2000</td>\n",
              "      <td>-0.395122</td>\n",
              "    </tr>\n",
              "    <tr>\n",
              "      <th>5</th>\n",
              "      <td>-0.677579</td>\n",
              "      <td>2003</td>\n",
              "      <td>-0.269403</td>\n",
              "    </tr>\n",
              "    <tr>\n",
              "      <th>...</th>\n",
              "      <td>...</td>\n",
              "      <td>...</td>\n",
              "      <td>...</td>\n",
              "    </tr>\n",
              "    <tr>\n",
              "      <th>7012</th>\n",
              "      <td>0.682100</td>\n",
              "      <td>2015</td>\n",
              "      <td>0.862068</td>\n",
              "    </tr>\n",
              "    <tr>\n",
              "      <th>7013</th>\n",
              "      <td>-0.767025</td>\n",
              "      <td>2005</td>\n",
              "      <td>-0.269403</td>\n",
              "    </tr>\n",
              "    <tr>\n",
              "      <th>7014</th>\n",
              "      <td>-0.414149</td>\n",
              "      <td>2006</td>\n",
              "      <td>0.862068</td>\n",
              "    </tr>\n",
              "    <tr>\n",
              "      <th>7015</th>\n",
              "      <td>-0.335138</td>\n",
              "      <td>2011</td>\n",
              "      <td>-0.646560</td>\n",
              "    </tr>\n",
              "    <tr>\n",
              "      <th>7016</th>\n",
              "      <td>0.287482</td>\n",
              "      <td>2010</td>\n",
              "      <td>-0.269403</td>\n",
              "    </tr>\n",
              "  </tbody>\n",
              "</table>\n",
              "<p>6837 rows × 3 columns</p>\n",
              "</div>"
            ],
            "text/plain": [
              "         price  year   weather\n",
              "0     2.558728  2016  0.862068\n",
              "1     0.067373  2009 -0.017965\n",
              "2    -1.072197  2002 -0.897998\n",
              "3    -1.176990  2000 -0.395122\n",
              "5    -0.677579  2003 -0.269403\n",
              "...        ...   ...       ...\n",
              "7012  0.682100  2015  0.862068\n",
              "7013 -0.767025  2005 -0.269403\n",
              "7014 -0.414149  2006  0.862068\n",
              "7015 -0.335138  2011 -0.646560\n",
              "7016  0.287482  2010 -0.269403\n",
              "\n",
              "[6837 rows x 3 columns]"
            ]
          },
          "execution_count": 42,
          "metadata": {},
          "output_type": "execute_result"
        }
      ],
      "source": [
        "scaler = StandardScaler()\n",
        " \n",
        "data_scaled[col_names] = scaler.fit_transform(x.values)\n",
        "data_scaled"
      ]
    },
    {
      "cell_type": "code",
      "execution_count": 43,
      "metadata": {
        "id": "n1ZO8tC_gVf2"
      },
      "outputs": [],
      "source": [
        "y = data_scaled['year']\n",
        "x = data_scaled.drop(columns='year')\n",
        "\n",
        "X_train, X_test, y_train, y_test = train_test_split(x, y, test_size=0.3, random_state=40)"
      ]
    },
    {
      "cell_type": "code",
      "execution_count": 44,
      "metadata": {
        "colab": {
          "base_uri": "https://localhost:8080/"
        },
        "id": "FsYSPuXFhCp7",
        "outputId": "8559372a-8e16-460b-f375-21ab778bbc66"
      },
      "outputs": [
        {
          "name": "stdout",
          "output_type": "stream",
          "text": [
            "MAE: 3.041\n"
          ]
        }
      ],
      "source": [
        "model = LinearRegression()\n",
        "model.fit(X_train, y_train)\n",
        "y_predicted = model.predict(X_test)\n",
        " \n",
        "mae = mean_absolute_error(y_test, y_predicted)\n",
        "print('MAE: %.3f' % mae)"
      ]
    },
    {
      "cell_type": "markdown",
      "metadata": {},
      "source": [
        "###  Задание 5.2\n",
        "Отмасштабируйте признак price с помощью RobustScaler.\n",
        "\n",
        "В качестве ответа запишите результат выполнения кода data['price'][1]. Ответ округлите до двух знаков после точки-разделителя."
      ]
    },
    {
      "cell_type": "code",
      "execution_count": 45,
      "metadata": {},
      "outputs": [],
      "source": [
        "from sklearn.preprocessing import RobustScaler"
      ]
    },
    {
      "cell_type": "code",
      "execution_count": 46,
      "metadata": {},
      "outputs": [],
      "source": [
        "data_scaled = data.copy()\n",
        "col_names = ['price']\n",
        "x = data_scaled[col_names]"
      ]
    },
    {
      "cell_type": "code",
      "execution_count": 47,
      "metadata": {},
      "outputs": [
        {
          "data": {
            "text/html": [
              "<div>\n",
              "<style scoped>\n",
              "    .dataframe tbody tr th:only-of-type {\n",
              "        vertical-align: middle;\n",
              "    }\n",
              "\n",
              "    .dataframe tbody tr th {\n",
              "        vertical-align: top;\n",
              "    }\n",
              "\n",
              "    .dataframe thead th {\n",
              "        text-align: right;\n",
              "    }\n",
              "</style>\n",
              "<table border=\"1\" class=\"dataframe\">\n",
              "  <thead>\n",
              "    <tr style=\"text-align: right;\">\n",
              "      <th></th>\n",
              "      <th>price</th>\n",
              "      <th>year</th>\n",
              "      <th>weather</th>\n",
              "    </tr>\n",
              "  </thead>\n",
              "  <tbody>\n",
              "    <tr>\n",
              "      <th>0</th>\n",
              "      <td>1.982455</td>\n",
              "      <td>2016</td>\n",
              "      <td>59.0</td>\n",
              "    </tr>\n",
              "    <tr>\n",
              "      <th>1</th>\n",
              "      <td>0.189460</td>\n",
              "      <td>2009</td>\n",
              "      <td>52.0</td>\n",
              "    </tr>\n",
              "    <tr>\n",
              "      <th>2</th>\n",
              "      <td>-0.630672</td>\n",
              "      <td>2002</td>\n",
              "      <td>45.0</td>\n",
              "    </tr>\n",
              "    <tr>\n",
              "      <th>3</th>\n",
              "      <td>-0.706090</td>\n",
              "      <td>2000</td>\n",
              "      <td>49.0</td>\n",
              "    </tr>\n",
              "    <tr>\n",
              "      <th>5</th>\n",
              "      <td>-0.346671</td>\n",
              "      <td>2003</td>\n",
              "      <td>50.0</td>\n",
              "    </tr>\n",
              "    <tr>\n",
              "      <th>...</th>\n",
              "      <td>...</td>\n",
              "      <td>...</td>\n",
              "      <td>...</td>\n",
              "    </tr>\n",
              "    <tr>\n",
              "      <th>7012</th>\n",
              "      <td>0.631871</td>\n",
              "      <td>2015</td>\n",
              "      <td>59.0</td>\n",
              "    </tr>\n",
              "    <tr>\n",
              "      <th>7013</th>\n",
              "      <td>-0.411044</td>\n",
              "      <td>2005</td>\n",
              "      <td>50.0</td>\n",
              "    </tr>\n",
              "    <tr>\n",
              "      <th>7014</th>\n",
              "      <td>-0.157084</td>\n",
              "      <td>2006</td>\n",
              "      <td>59.0</td>\n",
              "    </tr>\n",
              "    <tr>\n",
              "      <th>7015</th>\n",
              "      <td>-0.100221</td>\n",
              "      <td>2011</td>\n",
              "      <td>47.0</td>\n",
              "    </tr>\n",
              "    <tr>\n",
              "      <th>7016</th>\n",
              "      <td>0.347870</td>\n",
              "      <td>2010</td>\n",
              "      <td>50.0</td>\n",
              "    </tr>\n",
              "  </tbody>\n",
              "</table>\n",
              "<p>6837 rows × 3 columns</p>\n",
              "</div>"
            ],
            "text/plain": [
              "         price  year  weather\n",
              "0     1.982455  2016     59.0\n",
              "1     0.189460  2009     52.0\n",
              "2    -0.630672  2002     45.0\n",
              "3    -0.706090  2000     49.0\n",
              "5    -0.346671  2003     50.0\n",
              "...        ...   ...      ...\n",
              "7012  0.631871  2015     59.0\n",
              "7013 -0.411044  2005     50.0\n",
              "7014 -0.157084  2006     59.0\n",
              "7015 -0.100221  2011     47.0\n",
              "7016  0.347870  2010     50.0\n",
              "\n",
              "[6837 rows x 3 columns]"
            ]
          },
          "execution_count": 47,
          "metadata": {},
          "output_type": "execute_result"
        }
      ],
      "source": [
        "scaler = RobustScaler()\n",
        " \n",
        "data_scaled[col_names] = scaler.fit_transform(x.values)\n",
        "data_scaled"
      ]
    },
    {
      "cell_type": "code",
      "execution_count": 49,
      "metadata": {},
      "outputs": [],
      "source": [
        "y = data_scaled['year']\n",
        "x = data_scaled.drop(columns='year')\n",
        "\n",
        "X_train, X_test, y_train, y_test = train_test_split(x, y, test_size=0.3, random_state=40)"
      ]
    },
    {
      "cell_type": "code",
      "execution_count": 50,
      "metadata": {},
      "outputs": [
        {
          "name": "stdout",
          "output_type": "stream",
          "text": [
            "MAE: 3.041\n"
          ]
        }
      ],
      "source": [
        "model = LinearRegression()\n",
        "model.fit(X_train, y_train)\n",
        "y_predicted = model.predict(X_test)\n",
        " \n",
        "mae = mean_absolute_error(y_test, y_predicted)\n",
        "print('MAE: %.3f' % mae)"
      ]
    },
    {
      "cell_type": "code",
      "execution_count": 51,
      "metadata": {},
      "outputs": [
        {
          "data": {
            "text/plain": [
              "0.1894603976017671"
            ]
          },
          "execution_count": 51,
          "metadata": {},
          "output_type": "execute_result"
        }
      ],
      "source": [
        "data_scaled['price'][1]"
      ]
    }
  ],
  "metadata": {
    "colab": {
      "name": "Масштабирование_признаков.ipynb",
      "provenance": []
    },
    "kernelspec": {
      "display_name": "Python 3.9.7 ('base')",
      "language": "python",
      "name": "python3"
    },
    "language_info": {
      "codemirror_mode": {
        "name": "ipython",
        "version": 3
      },
      "file_extension": ".py",
      "mimetype": "text/x-python",
      "name": "python",
      "nbconvert_exporter": "python",
      "pygments_lexer": "ipython3",
      "version": "3.9.7"
    },
    "vscode": {
      "interpreter": {
        "hash": "214db4c70b1bc942313b235c1b40c372ae21c2ea84de05ae170b614d30d11a2d"
      }
    }
  },
  "nbformat": 4,
  "nbformat_minor": 0
}
