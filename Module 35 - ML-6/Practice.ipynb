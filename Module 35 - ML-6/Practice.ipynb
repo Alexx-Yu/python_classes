{
 "cells": [
  {
   "cell_type": "markdown",
   "metadata": {},
   "source": [
    "### Задание 3.7\n",
    "Какая форма (количество строк и столбцов) будет у нашего датасета о стоимости автомобилей после кодировки номинальных признаков однократным методом?\n",
    "\n",
    "Для ответа на поставленный вопрос выполните следующие шаги:\n",
    "\n",
    "- Загрузите данные в локальную директорию с помощью команды !wget https://www.dropbox.com/s/64ol9q9ssggz6f1/data_ford_price.xlsx.\n",
    "- Загрузите данные в память ноутбука с помощью функции read_excel() библиотеки pandas.\n",
    "- Закодируйте столбцы из списка columns_to_change.\n",
    "- Преобразуйте полученный массив закодированных данных в формат DataFrame, явно указав имена колонок. В качестве индекса используйте data.index, в качестве колонок — column_names. data_onehot = pd.DataFrame(data_onehot, index=data.index, columns=column_names)\n",
    "- Соедините новую таблицу с исходной. Используйте метод pd.concat(). Для того чтобы соединить таблицы по столбцам, необходимо явно указать axis = 1. data_new = pd.concat([data, data_onehot], axis=1)\n",
    "- Удалите закодированные столбцы columns_to_change из полученной таблицы. Для удаления столбцов воспользуйтесь методом drop(). data_new = data_new.drop(columns=columns_to_change)\n",
    "- Выведите на экран форму полученной таблицы. Воспользуйтесь методом shape()."
   ]
  },
  {
   "cell_type": "code",
   "execution_count": 6,
   "metadata": {},
   "outputs": [],
   "source": [
    "import numpy as np\n",
    "import pandas as pd\n",
    "from sklearn.linear_model import LinearRegression\n",
    "from sklearn.preprocessing import LabelBinarizer\n",
    "from sklearn.preprocessing import OneHotEncoder"
   ]
  },
  {
   "cell_type": "code",
   "execution_count": 12,
   "metadata": {},
   "outputs": [
    {
     "name": "stdout",
     "output_type": "stream",
     "text": [
      "zsh:1: command not found: wget\n"
     ]
    }
   ],
   "source": [
    "!wget https://www.dropbox.com/s/64ol9q9ssggz6f1/data_ford_price.xlsx"
   ]
  },
  {
   "cell_type": "code",
   "execution_count": 8,
   "metadata": {},
   "outputs": [],
   "source": [
    "data = pd.read_excel('Data/data_ford_price.xlsx') "
   ]
  },
  {
   "cell_type": "code",
   "execution_count": 9,
   "metadata": {},
   "outputs": [],
   "source": [
    "columns_to_change = ['cylinders', 'title_status', 'transmission', 'drive', 'size']\n",
    "\n",
    "one_hot_encoder = OneHotEncoder()\n",
    " \n",
    "# 'учим' и сразу применяем преобразование к выборке, результат переводим в массив\n",
    "data_onehot = one_hot_encoder.fit_transform(data[columns_to_change]).toarray() \n",
    "# запишем полученные названия новых колонок в отдельную переменную\n",
    "column_names = one_hot_encoder.get_feature_names_out(columns_to_change)\n",
    "\n",
    "data_onehot = pd.DataFrame(data_onehot, index=data.index, columns=column_names)"
   ]
  },
  {
   "cell_type": "code",
   "execution_count": 10,
   "metadata": {},
   "outputs": [
    {
     "data": {
      "text/plain": [
       "(7017, 30)"
      ]
     },
     "execution_count": 10,
     "metadata": {},
     "output_type": "execute_result"
    }
   ],
   "source": [
    "data_new = pd.concat([data, data_onehot], axis=1)\n",
    "data_new = data_new.drop(columns=columns_to_change)\n",
    "data_new.shape"
   ]
  }
 ],
 "metadata": {
  "kernelspec": {
   "display_name": "Python 3.9.7 ('base')",
   "language": "python",
   "name": "python3"
  },
  "language_info": {
   "codemirror_mode": {
    "name": "ipython",
    "version": 3
   },
   "file_extension": ".py",
   "mimetype": "text/x-python",
   "name": "python",
   "nbconvert_exporter": "python",
   "pygments_lexer": "ipython3",
   "version": "3.9.7"
  },
  "orig_nbformat": 4,
  "vscode": {
   "interpreter": {
    "hash": "214db4c70b1bc942313b235c1b40c372ae21c2ea84de05ae170b614d30d11a2d"
   }
  }
 },
 "nbformat": 4,
 "nbformat_minor": 2
}
