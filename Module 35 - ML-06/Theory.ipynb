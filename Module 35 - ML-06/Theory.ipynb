{
 "cells": [
  {
   "cell_type": "markdown",
   "metadata": {},
   "source": [
    "    Тип кодировки \t            Класс библиотеки sklearn\n",
    "    Порядковое кодирование \t    LabelEncoder\n",
    "    Двоичное кодирование \t    LabelBinarizer\n",
    "    Однократное кодирование     OneHotEncoder"
   ]
  },
  {
   "cell_type": "markdown",
   "metadata": {},
   "source": [
    "- Кодирование категориальных признаков\n",
    "- Обработка пропусков и выбросов\n",
    "- Масштабирование признаков\n",
    "- Корректировка распределения признаков"
   ]
  }
 ],
 "metadata": {
  "kernelspec": {
   "display_name": "Python 3.9.7 ('base')",
   "language": "python",
   "name": "python3"
  },
  "language_info": {
   "name": "python",
   "version": "3.9.7"
  },
  "orig_nbformat": 4,
  "vscode": {
   "interpreter": {
    "hash": "214db4c70b1bc942313b235c1b40c372ae21c2ea84de05ae170b614d30d11a2d"
   }
  }
 },
 "nbformat": 4,
 "nbformat_minor": 2
}
