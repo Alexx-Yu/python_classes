{
 "cells": [
  {
   "cell_type": "markdown",
   "metadata": {},
   "source": [
    "### Атрибуты и методы"
   ]
  },
  {
   "cell_type": "code",
   "execution_count": 1,
   "metadata": {},
   "outputs": [
    {
     "name": "stdout",
     "output_type": "stream",
     "text": [
      "Total amount: 10\n",
      "Total amount: 20\n"
     ]
    }
   ],
   "source": [
    "# создаём пустой класс  \n",
    "class SalesReport():  \n",
    "    pass  \n",
    "  \n",
    "# Создаём первый отчёт по продажам   \n",
    "report = SalesReport()  \n",
    "  \n",
    "# Мы добавим новый атрибут объекту.  \n",
    "# Для этого через точку напишем имя атрибута и дальше как с обычной переменной  \n",
    "report.amount = 10  \n",
    "  \n",
    "# То же самое делаем для второго отчёта.  \n",
    "report_2 = SalesReport()  \n",
    "report_2.amount = 20  \n",
    "  \n",
    "# Создадим вспомогательную функцию, она будет печатать общую сумму из отчёта  \n",
    "def print_report(report):  \n",
    "    print(\"Total amount:\", report.amount)  \n",
    "      \n",
    "print_report(report) # => Total amount: 10  \n",
    "print_report(report_2) # => Total amount: 20 "
   ]
  },
  {
   "cell_type": "code",
   "execution_count": 2,
   "metadata": {},
   "outputs": [
    {
     "name": "stdout",
     "output_type": "stream",
     "text": [
      "Total amount: 10\n",
      "Total amount: 20\n"
     ]
    }
   ],
   "source": [
    " \n",
    "class SalesReport():  \n",
    "    # Наш новый метод внутри класса.  \n",
    "    # Мы определяем его похожим образом с обычными функциями,  \n",
    "    #   но только помещаем внутрь класса и первым аргументом передаём self  \n",
    "    def print_report(self):  \n",
    "        print(\"Total amount:\", self.amount)  \n",
    "          \n",
    "          \n",
    "# Дальше мы применяем report так же, как и в примере выше   \n",
    "report = SalesReport()  \n",
    "report.amount = 10  \n",
    "  \n",
    "report_2 = SalesReport()  \n",
    "report_2.amount = 20  \n",
    "  \n",
    "# Используем наши новые методы  \n",
    "report.print_report() # => Total amount: 10  \n",
    "report_2.print_report() # => Total amount: 20 "
   ]
  },
  {
   "cell_type": "code",
   "execution_count": 3,
   "metadata": {},
   "outputs": [
    {
     "name": "stdout",
     "output_type": "stream",
     "text": [
      "Total sales: 40000\n"
     ]
    }
   ],
   "source": [
    " \n",
    "class SalesReport():  \n",
    "    # Позволим добавлять много разных сделок   \n",
    "    def add_deal(self, amount):   \n",
    "        # На первой сделке создадим список для хранения всех сделок   \n",
    "        if not hasattr(self, 'deals'):  \n",
    "            self.deals = []  \n",
    "        # Добавим текущую сделку  \n",
    "        self.deals.append(amount)  \n",
    "          \n",
    "    # Посчитаем сумму всех сделок      \n",
    "    def total_amount(self):  \n",
    "        return sum(self.deals)  \n",
    "      \n",
    "    def print_report(self):  \n",
    "        print(\"Total sales:\", self.total_amount())  \n",
    "          \n",
    "# Используем наши новые возможности  \n",
    "# Добавим две сделки и распечатаем отчёт  \n",
    "report = SalesReport()  \n",
    "report.add_deal(10_000)  \n",
    "report.add_deal(30_000)  \n",
    "report.print_report() # => Total sales: 40000  "
   ]
  },
  {
   "cell_type": "markdown",
   "metadata": {},
   "source": [
    "###  Задание 4.1\n",
    "Создайте класс DepartmentReport, который выводит отчёт по отделам компании. У него должны быть определены:\n",
    "\n",
    "    атрибут revenues — список, где мы храним значения выручки отделов;\n",
    "    метод add_revenue, который добавляет выручку одного отдела;\n",
    "    метод average_revenue, который возвращает среднюю выручку по всем отделам.\n"
   ]
  },
  {
   "cell_type": "code",
   "execution_count": 4,
   "metadata": {},
   "outputs": [
    {
     "name": "stdout",
     "output_type": "stream",
     "text": [
      "[1000000, 400000]\n",
      "700000\n"
     ]
    }
   ],
   "source": [
    "from statistics import mean \n",
    "class DepartmentReport():\n",
    "    def add_revenue(self, revenues):   \n",
    "        if not hasattr(self, 'revenues'):  \n",
    "            self.revenues = []  \n",
    "        self.revenues.append(revenues)  \n",
    "\n",
    "    def average_revenue(self):  \n",
    "        return mean(self.revenues)  \n",
    "      \n",
    "    def print_report(self):  \n",
    "        print(\"Average revenues:\", self.average_revenue())  \n",
    "        \n",
    "report = DepartmentReport()\n",
    "report.add_revenue(1_000_000)\n",
    "report.add_revenue(400_000)\n",
    "print(report.revenues)\n",
    "# => [1000000, 400000]\n",
    "print(report.average_revenue())\n",
    "# => 700000.0"
   ]
  },
  {
   "cell_type": "markdown",
   "metadata": {},
   "source": [
    "### Метод _INIT_\n",
    "__init__ — это технический метод, поэтому его имя начинается и заканчивается двумя подчёркиваниями. Он получает первым аргументом сам объект, в нём могут выполняться любые операции. Оставшиеся аргументы он получает из вызова при создании: если мы напишем report = SalesReport(\"Info\", 20), то вторым и третьим аргументом в __init__ передадутся \"Info\" и 20."
   ]
  },
  {
   "cell_type": "code",
   "execution_count": 5,
   "metadata": {},
   "outputs": [
    {
     "name": "stdout",
     "output_type": "stream",
     "text": [
      "[]\n"
     ]
    },
    {
     "data": {
      "text/plain": [
       "0"
      ]
     },
     "execution_count": 5,
     "metadata": {},
     "output_type": "execute_result"
    }
   ],
   "source": [
    " \n",
    "class SalesReport():  \n",
    "    def __init__(self):  \n",
    "        self.deals = []  \n",
    "          \n",
    "    def add_deal(self, amount):   \n",
    "        self.deals.append(amount)  \n",
    "          \n",
    "    def total_amount(self):  \n",
    "        return sum(self.deals)  \n",
    "      \n",
    "    def print_report(self):  \n",
    "        print(\"Total sales:\", self.total_amount())  \n",
    "   \n",
    "report = SalesReport()  \n",
    "print(report.deals)  \n",
    "# => []  \n",
    "report.total_amount()  \n",
    "# => 0  "
   ]
  },
  {
   "cell_type": "code",
   "execution_count": 6,
   "metadata": {},
   "outputs": [
    {
     "name": "stdout",
     "output_type": "stream",
     "text": [
      "Manager: Ivan Taranov\n",
      "Total sales: 40000\n"
     ]
    }
   ],
   "source": [
    " \n",
    "class SalesReport():  \n",
    "    # Будем принимать в __init__ ещё и имя менеджера  \n",
    "    def __init__(self, manager_name):  \n",
    "        self.deals = []  \n",
    "        self.manager_name = manager_name  \n",
    "          \n",
    "    def add_deal(self, amount):   \n",
    "        self.deals.append(amount)  \n",
    "          \n",
    "    def total_amount(self):  \n",
    "        return sum(self.deals)  \n",
    "      \n",
    "    def print_report(self):  \n",
    "        # И добавлять это имя в отчёт  \n",
    "        print(\"Manager:\", self.manager_name)  \n",
    "        print(\"Total sales:\", self.total_amount())  \n",
    "          \n",
    "   \n",
    "report = SalesReport(\"Ivan Taranov\")  \n",
    "report.add_deal(10_000)  \n",
    "report.add_deal(30_000)  \n",
    "report.print_report()  \n",
    "# =>   \n",
    "# Manager: Ivan Taranov  \n",
    "# Total sales: 40000"
   ]
  },
  {
   "cell_type": "markdown",
   "metadata": {},
   "source": [
    "###  Задание 4.2\n",
    "Определите улучшенный класс DepartmentReport из задания 3.2 в предыдущем юните. Класс при инициализации должен принимать переменную company_name.\n",
    "\n",
    "Метод average_revenue должен возвращать строку \"Average department revenue for (company_name): (average_revenue)\"."
   ]
  },
  {
   "cell_type": "code",
   "execution_count": 34,
   "metadata": {},
   "outputs": [
    {
     "name": "stdout",
     "output_type": "stream",
     "text": [
      "Average department revenue for Danon: 700000\n"
     ]
    }
   ],
   "source": [
    "class DepartmentReport():\n",
    "\n",
    "    def __init__(self,company):\n",
    "        self.revenues=[]\n",
    "        self.company=company\n",
    "    \n",
    "    def add_revenue(self, amount):\n",
    "        if not hasattr(self,'revenues'):\n",
    "            self.revenues=[]\n",
    "        self.revenues.append(amount)\n",
    "    \n",
    "    def average_revenue(self):\n",
    "        average=round(sum(self.revenues)/len(self.revenues))\n",
    "        return 'Average department revenue for {}: {}'.format(self.company,average)\n",
    "    \n",
    "report = DepartmentReport(\"Danon\")\n",
    "report.add_revenue(1_000_000)\n",
    "report.add_revenue(400_000)\n",
    "\n",
    "print(report.average_revenue())\n",
    "# => Average department revenue for Danon: 700000"
   ]
  },
  {
   "cell_type": "code",
   "execution_count": 35,
   "metadata": {},
   "outputs": [
    {
     "name": "stdout",
     "output_type": "stream",
     "text": [
      "Employee:  Ivan Semenov\n",
      "Total sales: 390000\n",
      "Average sales: 130000.0\n",
      "Companies: ['PepsiCo', 'SkyEng']\n"
     ]
    }
   ],
   "source": [
    "# мы хотим получать средний размер сделки и список клиентов, из которого исключены повторения \n",
    "# (в случае, если компания заключала несколько сделок с одним и тем же клиентом)\n",
    " \n",
    "class SalesReport():  \n",
    "    def __init__(self, employee_name):  \n",
    "        self.deals = []  \n",
    "        self.employee_name = employee_name  \n",
    "      \n",
    "    def add_deal(self, company, amount):   \n",
    "        self.deals.append({'company': company, 'amount': amount})  \n",
    "          \n",
    "    def total_amount(self):  \n",
    "        return sum([deal['amount'] for deal in self.deals])  \n",
    "      \n",
    "    def average_deal(self):  \n",
    "        return self.total_amount()/len(self.deals)  \n",
    "      \n",
    "    def all_companies(self):  \n",
    "        return list(set([deal['company'] for deal in self.deals]))  \n",
    "      \n",
    "    def print_report(self):  \n",
    "        print(\"Employee: \", self.employee_name)  \n",
    "        print(\"Total sales:\", self.total_amount())  \n",
    "        print(\"Average sales:\", self.average_deal())  \n",
    "        print(\"Companies:\", self.all_companies())  \n",
    "      \n",
    "      \n",
    "report = SalesReport(\"Ivan Semenov\")  \n",
    "  \n",
    "report.add_deal(\"PepsiCo\", 120_000)  \n",
    "report.add_deal(\"SkyEng\", 250_000)  \n",
    "report.add_deal(\"PepsiCo\", 20_000)  \n",
    "  \n",
    "report.print_report()  \n",
    "# => Employee:  Ivan Semenov  \n",
    "# Total sales: 390000  \n",
    "# Average sales: 130000.0  \n",
    "# Companies: ['PepsiCo', 'SkyEng'] "
   ]
  },
  {
   "cell_type": "code",
   "execution_count": 36,
   "metadata": {},
   "outputs": [
    {
     "name": "stdout",
     "output_type": "stream",
     "text": [
      "Order price for max@gmail.com is 100\n",
      "Order price for lova@yandex.ru is 180.0\n",
      "Order price for german@sberbank.ru is 500\n",
      "Order price for german@sberbank.ru is 450.0\n"
     ]
    }
   ],
   "source": [
    "# есть база клиентов с основной информацией; в реальном времени нам приходит информация \n",
    "# о покупках. Запустим промокампанию, чтобы поощрить старых клиентов, которые сделали \n",
    "# у нас много заказов, и выдать им скидку\n",
    " \n",
    "class Client():  \n",
    "    # Базовые данные  \n",
    "    def __init__(self, email, order_num, registration_year):  \n",
    "        self.email = email  \n",
    "        self.order_num = order_num  \n",
    "        self.registration_year = registration_year  \n",
    "        self.discount = 0  \n",
    "          \n",
    "    # Оформление заказа  \n",
    "    def make_order(self, price):  \n",
    "        self.update_discount()  \n",
    "        self.order_num += 1  \n",
    "        # Здесь было бы оформление заказа, но мы просто выведем его цену  \n",
    "        discounted_price = price * (1 - self.discount)   \n",
    "        print(f\"Order price for {self.email} is {discounted_price}\")  \n",
    "              \n",
    "    # Назначение скидки  \n",
    "    def update_discount(self):   \n",
    "        if self.registration_year < 2018 and self.order_num >= 5:  \n",
    "            self.discount = 0.1   \n",
    "              \n",
    "  \n",
    "# Применение  \n",
    "          \n",
    "# Сделаем подобие базы  \n",
    "client_db = [   \n",
    "    Client(\"max@gmail.com\", 2, 2019),  \n",
    "    Client(\"lova@yandex.ru\", 10, 2015),  \n",
    "    Client(\"german@sberbank.ru\", 4, 2017)  \n",
    "]  \n",
    "  \n",
    "  \n",
    "# Сгенерируем заказы  \n",
    "client_db[0].make_order(100)  \n",
    "# => Order price for max@gmail.com is 100  \n",
    "  \n",
    "client_db[1].make_order(200)  \n",
    "# => Order price for lova@yandex.ru is 180.0  \n",
    "  \n",
    "client_db[2].make_order(500)  \n",
    "# => Order price for german@sberbank.ru is 500  \n",
    "  \n",
    "client_db[2].make_order(500)  \n",
    "# => Order price for german@sberbank.ru is 450.0 "
   ]
  },
  {
   "cell_type": "markdown",
   "metadata": {},
   "source": [
    "###  Задание 5.1\n",
    "\n",
    "Определите класс для пользователей User:\n",
    "\n",
    "- у него должны быть атрибуты email, password и balance, которые устанавливаются при инициализации;\n",
    "- у него должен быть метод login, который принимает емайл и пароль. Если они совпадают с атрибутами объекта, он возвращает True, а иначе — False;\n",
    "- должен быть метод update_balance(amount), который изменяет баланс счёта на величину amount."
   ]
  },
  {
   "cell_type": "code",
   "execution_count": 50,
   "metadata": {},
   "outputs": [
    {
     "name": "stdout",
     "output_type": "stream",
     "text": [
      "19700\n"
     ]
    }
   ],
   "source": [
    "class User():\n",
    "    def __init__(self, email, password, balance):\n",
    "        self.email=email\n",
    "        self.password=password\n",
    "        self.balance=balance\n",
    "        update_balance=0\n",
    "     \n",
    "    def login(self, email, password):\n",
    "        if self.email==email and self.password==password:\n",
    "            answer=True\n",
    "        else:\n",
    "            answer=False\n",
    "        return answer\n",
    "    \n",
    "    def update_balance(self, amount):\n",
    "        self.balance+=amount\n",
    "        return self.balance\n",
    "    \n",
    "    \n",
    "user = User(\"gosha@roskino.org\", \"qwerty\", 20_000)\n",
    "user.login(\"gosha@roskino.org\", \"qwerty123\")\n",
    "# => False\n",
    "user.login(\"gosha@roskino.org\", \"qwerty\")\n",
    "# => True\n",
    "user.update_balance(200)\n",
    "user.update_balance(-500)\n",
    "print(user.balance)\n",
    "# => 19700"
   ]
  },
  {
   "cell_type": "code",
   "execution_count": 51,
   "metadata": {},
   "outputs": [
    {
     "name": "stdout",
     "output_type": "stream",
     "text": [
      "[1.0, 17.0, 4.0, 0.0, 8.0]\n",
      "6.892024376045111\n",
      "4.0\n"
     ]
    }
   ],
   "source": [
    "# У нас есть численные данные из разных источников. Если они в виде строк, то нужно привести их \n",
    "# к числам, а пропуски — заполнить значениями. Сделаем доступ к медиане, среднему значению \n",
    "# и стандартному отклонению\n",
    "\n",
    " \n",
    "import statistics  \n",
    "  \n",
    "class DataFrame():  \n",
    "    def __init__(self, column, fill_value=0):  \n",
    "        # Инициализируем атрибуты  \n",
    "        self.column = column  \n",
    "        self.fill_value = fill_value  \n",
    "        # Заполним пропуски  \n",
    "        self.fill_missed()  \n",
    "        # Конвертируем все элементы в числа  \n",
    "        self.to_float()  \n",
    "          \n",
    "    def fill_missed(self):  \n",
    "        for i, value in enumerate(self.column):  \n",
    "            if value is None or value == '':  \n",
    "                self.column[i] = self.fill_value  \n",
    "                  \n",
    "    def to_float(self):  \n",
    "        self.column = [float(value) for value in self.column]  \n",
    "      \n",
    "    def median(self):  \n",
    "        return statistics.median(self.column)  \n",
    "      \n",
    "    def mean(self):  \n",
    "        return statistics.mean(self.column)  \n",
    "      \n",
    "    def deviation(self):  \n",
    "        return statistics.stdev(self.column)  \n",
    "      \n",
    "  \n",
    "      \n",
    "# Воспользуемся классом  \n",
    "df = DataFrame([\"1\", 17, 4, None, 8])  \n",
    "  \n",
    "print(df.column)  \n",
    "# => [1.0, 17.0, 4.0, 0.0, 8.0]  \n",
    "print(df.deviation())  \n",
    "# => 6.89  \n",
    "print(df.median())  \n",
    "# => 4.0  "
   ]
  },
  {
   "cell_type": "markdown",
   "metadata": {},
   "source": [
    "###  Задание 5.2\n",
    "\n",
    "Определите класс IntDataFrame, который принимает список неотрицательных чисел и приводит к целым значениям все числа в этом списке. После этого становится доступен метод count, который считает количество ненулевых элементов, и метод unique, который возвращает число уникальных элементов. "
   ]
  },
  {
   "cell_type": "code",
   "execution_count": 53,
   "metadata": {},
   "outputs": [
    {
     "data": {
      "text/plain": [
       "4"
      ]
     },
     "execution_count": 53,
     "metadata": {},
     "output_type": "execute_result"
    }
   ],
   "source": [
    "class IntDataFrame():\n",
    "    def __init__(self, column):\n",
    "        self.column=column\n",
    "        self.to_int()\n",
    "        \n",
    "    def to_int(self):\n",
    "        self.column=[int(value) for value in self.column]\n",
    "    \n",
    "    def count(self):\n",
    "        j=0\n",
    "        for i, value in enumerate(self.column):\n",
    "            if value>0:\n",
    "                j+=1\n",
    "        return j\n",
    "    \n",
    "    def unique(self):\n",
    "        uniq=[]\n",
    "        for i, value in enumerate(self.column):\n",
    "            if value in uniq:\n",
    "                continue\n",
    "            else:\n",
    "                uniq.append(value)\n",
    "        return len(uniq)\n",
    "    \n",
    "df = IntDataFrame([4.7, 4, 3, 0, 2.4, 0.3, 4])\n",
    "\n",
    "df.count()\n",
    "# => 5\n",
    "df.unique()\n",
    "# => 4"
   ]
  },
  {
   "cell_type": "code",
   "execution_count": 56,
   "metadata": {},
   "outputs": [
    {
     "name": "stdout",
     "output_type": "stream",
     "text": [
      "{'perfomance': [10, 20, 10], 'clients': {'Romashka': 10, 'Vector': 34}}\n"
     ]
    }
   ],
   "source": [
    "# Представим, вы делаете обработку данных и в конце каждого дня сохраняете результат в архив. \n",
    "# Вы хотите, чтобы данные каждого дня лежали в отдельном файле для этого дня, при этом можно \n",
    "# было бы получить данные за произвольный день. \n",
    "# Перед запуском кода создайте папку с названием archive там же, где находится ноутбук\n",
    " \n",
    "import pickle  \n",
    "from datetime import datetime  \n",
    "from os import path  \n",
    "  \n",
    "class Dumper():  \n",
    "    def __init__(self, archive_dir=\"archive/\"):  \n",
    "        self.archive_dir = archive_dir  \n",
    "          \n",
    "    def dump(self, data):  \n",
    "        # Библиотека pickle позволяет доставать и класть объекты в файл  \n",
    "        with open(self.get_file_name(), 'wb') as file:  \n",
    "            pickle.dump(data, file)  \n",
    "              \n",
    "    def load_for_day(self, day):  \n",
    "        file_name = path.join(self.archive_dir, day + \".pkl\")   \n",
    "        with open(file_name, 'rb') as file:  \n",
    "            sets = pickle.load(file)  \n",
    "        return sets  \n",
    "          \n",
    "    # возвращает корректное имя для файла   \n",
    "    def get_file_name(self):   \n",
    "        today = datetime.now().strftime(\"%y-%m-%d\")   \n",
    "        return path.join(self.archive_dir, today + \".pkl\")  \n",
    "      \n",
    "      \n",
    "# Пример использования  \n",
    "  \n",
    "data = {  \n",
    "    'perfomance': [10, 20, 10],  \n",
    "    'clients': {\"Romashka\": 10, \"Vector\": 34}  \n",
    "}  \n",
    "  \n",
    "  \n",
    "dumper = Dumper()  \n",
    "  \n",
    "# Сохраним данные  \n",
    "dumper.dump(data)  \n",
    "  \n",
    "# Восстановим для сегодняшней даты  \n",
    "file_name = datetime.now().strftime(\"%y-%m-%d\")\n",
    "restored_data = dumper.load_for_day(file_name)\n",
    "print(restored_data)  \n",
    "# => {'perfomance': [10, 20, 10], 'clients': {'Romashka': 10, 'Vector': 34}}  "
   ]
  },
  {
   "cell_type": "markdown",
   "metadata": {},
   "source": [
    "###  Задание 5.3\n",
    "Напишите класс сборщика технических сообщений OwnLogger.\n",
    "\n",
    "- У него должен быть метод log(message, level), который записывает сообщения. Здесь сообщение message может быть любым, а level — один из \"info\", \"warning\", \"error\".\n",
    "- Также примените метод show_last(level), где level может быть \"info\", \"warning\", \"error\", \"all\". Для \"all\" он просто возвращает последнее добавленное сообщение, а для остальных — последнее поступившее сообщение соответствующего уровня.\n",
    "- При этом по умолчанию значение именно \"all\". Если подходящего сообщения нет, возвращает None"
   ]
  },
  {
   "cell_type": "code",
   "execution_count": 57,
   "metadata": {},
   "outputs": [
    {
     "data": {
      "text/plain": [
       "'System started'"
      ]
     },
     "execution_count": 57,
     "metadata": {},
     "output_type": "execute_result"
    }
   ],
   "source": [
    "class OwnLogger():\n",
    "   def __init__(self):\n",
    "       self.logs = {\"info\": None, \"warning\": None, \"error\": None, \"all\": None}\n",
    "   def log(self, message, level):\n",
    "       self.logs[level] = message\n",
    "       self.logs['all'] = message\n",
    "   def show_last(self, level='all'):\n",
    "       return self.logs[level]\n",
    "   \n",
    "logger = OwnLogger()\n",
    "logger.log(\"System started\", \"info\")\n",
    "logger.show_last(\"error\")\n",
    "# => None\n",
    "# Некоторые интерпретаторы Python могут не выводить None, тогда в этой проверке у вас будет пустая строка\n",
    "logger.log(\"Connection instable\", \"warning\")\n",
    "logger.log(\"Connection lost\", \"error\")\n",
    "\n",
    "logger.show_last()\n",
    "# => Connection lost\n",
    "logger.show_last(\"info\")\n",
    "# => System started"
   ]
  },
  {
   "cell_type": "code",
   "execution_count": 58,
   "metadata": {},
   "outputs": [
    {
     "ename": "ModuleNotFoundError",
     "evalue": "No module named 'dumper'",
     "output_type": "error",
     "traceback": [
      "\u001b[0;31m---------------------------------------------------------------------------\u001b[0m",
      "\u001b[0;31mModuleNotFoundError\u001b[0m                       Traceback (most recent call last)",
      "\u001b[0;32m/var/folders/pc/c2w9pn8d3wd__bfxb8w0bzsh0000gn/T/ipykernel_66438/3453632199.py\u001b[0m in \u001b[0;36m<module>\u001b[0;34m\u001b[0m\n\u001b[1;32m      3\u001b[0m \u001b[0;31m# Например, если мы положим Dumper в файл dumper.py в корне проекта, то его можно импортировать командой:\u001b[0m\u001b[0;34m\u001b[0m\u001b[0;34m\u001b[0m\u001b[0m\n\u001b[1;32m      4\u001b[0m \u001b[0;34m\u001b[0m\u001b[0m\n\u001b[0;32m----> 5\u001b[0;31m \u001b[0;32mfrom\u001b[0m \u001b[0mdumper\u001b[0m \u001b[0;32mimport\u001b[0m \u001b[0mDumper\u001b[0m\u001b[0;34m\u001b[0m\u001b[0;34m\u001b[0m\u001b[0m\n\u001b[0m\u001b[1;32m      6\u001b[0m \u001b[0;34m\u001b[0m\u001b[0m\n\u001b[1;32m      7\u001b[0m \u001b[0;31m# Пишем from <имя файла без .py> import <имя класса>. Имя файла должно начинаться с буквы и не совпадать\u001b[0m\u001b[0;34m\u001b[0m\u001b[0;34m\u001b[0m\u001b[0m\n",
      "\u001b[0;31mModuleNotFoundError\u001b[0m: No module named 'dumper'"
     ]
    }
   ],
   "source": [
    "# Классы, как и библиотечные функции, можно импортировать в другие программы. Для этого \n",
    "# нужно положить класс в отдельный файл в корне проекта и использовать ключевое слово import. \n",
    "# Например, если мы положим Dumper в файл dumper.py в корне проекта, то его можно импортировать командой:\n",
    " \n",
    "from dumper import Dumper  \n",
    "\n",
    "# Пишем from <имя файла без .py> import <имя класса>. Имя файла должно начинаться с буквы и не совпадать \n",
    "# с именами библиотечных модулей. Если файлов с классами много, их можно складывать в папки, \n",
    "# предварительно положив туда пустой файл __init__.py — это требование Python.\n",
    "# Сгруппируем классы из примеров в папке helpers. Структура файлов:\n",
    "\n",
    "helpers\n",
    "-- __init__.py\n",
    "-- dumper.py\n",
    "-- data_frame.py\n",
    "-- client.py\n",
    "\n",
    "from helpers.dumper import Dumper  \n",
    "from helpers.data_frame import DataFrame  \n",
    "from helpers.client import Client  "
   ]
  },
  {
   "cell_type": "markdown",
   "metadata": {},
   "source": [
    "###  Задание 6.3\n",
    "Определите класс Dog, у которого есть методы bark и give_paw.\n",
    "\n",
    "    bark возвращает строку \"Bark!\"\n",
    "    give_paw возвращает строку \"Paw\"\n",
    "\n"
   ]
  },
  {
   "cell_type": "code",
   "execution_count": 59,
   "metadata": {},
   "outputs": [],
   "source": [
    "class Dog():    \n",
    "    def bark(*args):\n",
    "        return 'Bark!'\n",
    "    \n",
    "    def give_paw(*args):\n",
    "        return 'Paw'"
   ]
  },
  {
   "cell_type": "markdown",
   "metadata": {},
   "source": [
    "### Путь к файлу"
   ]
  },
  {
   "cell_type": "code",
   "execution_count": 2,
   "metadata": {},
   "outputs": [
    {
     "name": "stdout",
     "output_type": "stream",
     "text": [
      "/Users/a.y.macbookair/Desktop/Python/python_classes/Module 15 - Class & Debugging\n"
     ]
    }
   ],
   "source": [
    "# получить текущий путь\n",
    "start_path = os.getcwd()\n",
    "print(start_path)"
   ]
  },
  {
   "cell_type": "code",
   "execution_count": 3,
   "metadata": {},
   "outputs": [
    {
     "data": {
      "text/plain": [
       "'/Users/a.y.macbookair/Desktop/Python/python_classes'"
      ]
     },
     "execution_count": 3,
     "metadata": {},
     "output_type": "execute_result"
    }
   ],
   "source": [
    "# попробуем подняться на директорию выше:\n",
    "os.chdir(\"..\") # подняться на один уровень выше\n",
    "os.getcwd()"
   ]
  },
  {
   "cell_type": "code",
   "execution_count": 4,
   "metadata": {},
   "outputs": [
    {
     "data": {
      "text/plain": [
       "'/Users/a.y.macbookair/Desktop/Python/python_classes/Module 15 - Class & Debugging'"
      ]
     },
     "execution_count": 4,
     "metadata": {},
     "output_type": "execute_result"
    }
   ],
   "source": [
    "# вернемся в ту директорию, из которой стартовали. Изначально мы сохраняли её в переменной start_path.\n",
    "os.chdir(start_path)\n",
    "os.getcwd()"
   ]
  },
  {
   "cell_type": "code",
   "execution_count": 6,
   "metadata": {},
   "outputs": [
    {
     "name": "stdout",
     "output_type": "stream",
     "text": [
      "['archive', 'Theory.ipynb']\n",
      "Файл отсутствует в данной директории\n"
     ]
    }
   ],
   "source": [
    "# С помощью функции os.listdir() можно получить весь список файлов, находящихся в директории. \n",
    "# Если не указать никаких аргументов, то будет взята текущая директория.\n",
    "# список файлов и директорий в папке\n",
    "import os\n",
    "print(os.listdir())\n",
    "if 'tmp.py' not in os.listdir():\n",
    "    print(\"Файл отсутствует в данной директории\")"
   ]
  },
  {
   "cell_type": "code",
   "execution_count": 7,
   "metadata": {},
   "outputs": [
    {
     "name": "stdout",
     "output_type": "stream",
     "text": [
      "/Users/a.y.macbookair/Desktop/Python/python_classes/Module 15 - Class & Debugging\n",
      "/Users/a.y.macbookair/Desktop/Python/python_classes/Module 15 - Class & Debugging/test\n"
     ]
    }
   ],
   "source": [
    "# чтобы склеивать пути с учётом особенностей ОС, следует использовать функцию os.path.join(). \n",
    "# Это связано с тем, что в разных операционных системах могут быть разные разделители каталогов, \n",
    "# например в ОС Windows этим разделителем является «\\», а в Linux — «/», как мы и говорили \n",
    "# в начале юнита. Поэтому, чтобы поиск файла проходил гладко в обеих системах (ведь ваш скрипт \n",
    "# могут запускать на любой системе в связи с кросс-платформенностью Python), лучше всё-таки \n",
    "# использовать os.path.join().\n",
    "\n",
    "# соединяет пути с учётом особенностей операционной системы\n",
    "print(start_path)\n",
    "print(os.path.join(start_path, 'test'))"
   ]
  },
  {
   "cell_type": "markdown",
   "metadata": {},
   "source": [
    "### Задание 7.3\n",
    "Сделайте функцию, которая принимает от пользователя путь и выводит всю информацию о содержимом этой папки. Для реализации используйте функцию встроенного модуля os.walk(). Если путь не указан, то сравнение начинается с текущей директории."
   ]
  },
  {
   "cell_type": "code",
   "execution_count": 8,
   "metadata": {},
   "outputs": [
    {
     "name": "stdout",
     "output_type": "stream",
     "text": [
      "Текущая директория /Users/a.y.macbookair/Desktop/Python/python_classes/Module 15 - Class & Debugging\n",
      "---\n",
      "Список папок ['archive']\n",
      "---\n",
      "Список файлов ['Theory.ipynb']\n",
      "---\n",
      "Все пути:\n",
      "Файл  /Users/a.y.macbookair/Desktop/Python/python_classes/Module 15 - Class & Debugging/Theory.ipynb\n",
      "Папка  /Users/a.y.macbookair/Desktop/Python/python_classes/Module 15 - Class & Debugging/archive\n",
      "===\n",
      "Текущая директория /Users/a.y.macbookair/Desktop/Python/python_classes/Module 15 - Class & Debugging/archive\n",
      "---\n",
      "Папок нет\n",
      "---\n",
      "Список файлов ['22-02-24.pkl']\n",
      "---\n",
      "Файл  /Users/a.y.macbookair/Desktop/Python/python_classes/Module 15 - Class & Debugging/archive/22-02-24.pkl\n",
      "===\n"
     ]
    }
   ],
   "source": [
    "import os\n",
    "\n",
    "def walk_desc(path=None):\n",
    "    start_path = path if path is not None else os.getcwd()\n",
    "\n",
    "    for root, dirs, files in os.walk(start_path):\n",
    "        print(\"Текущая директория\", root)\n",
    "        print(\"---\")\n",
    "\n",
    "        if dirs:\n",
    "            print(\"Список папок\", dirs)\n",
    "        else:\n",
    "            print(\"Папок нет\")\n",
    "        print(\"---\")\n",
    "\n",
    "        if files:\n",
    "            print(\"Список файлов\", files)\n",
    "        else:\n",
    "            print(\"Файлов нет\")\n",
    "        print(\"---\")\n",
    "\n",
    "        if files and dirs:\n",
    "            print(\"Все пути:\")\n",
    "        for f in files:\n",
    "            print(\"Файл \", os.path.join(root, f))\n",
    "        for d in dirs:\n",
    "            print(\"Папка \", os.path.join(root, d))\n",
    "        print(\"===\")\n",
    "\n",
    "walk_desc()"
   ]
  },
  {
   "cell_type": "markdown",
   "metadata": {},
   "source": [
    "### Работа с файлами\n",
    " чтобы начать работать с файлом, надо его открыть с помощью команды специальной функции open.\n",
    "f = open('path/to/file', 'filemode', encoding='utf8')\n",
    "\n",
    "        path/to/file — путь к файлу может быть относительным или абсолютным. Можно указывать в Unix-стиле (path/to/file) или в Windows-стиле (path\\to\\file).\n",
    "        filemode — режим, в котором файл нужно открывать.\n",
    "\n",
    "        Записывается в виде строки, может принимать следующие значения:\n",
    "                r — открыть на чтение (по умолчанию);\n",
    "                w — перезаписать и открыть на запись (если файла нет, то он создастся);\n",
    "                x — создать и открыть на запись (если уже есть — исключение);\n",
    "                a — открыть на дозапись (указатель будет поставлен в конец);\n",
    "                t — открыть в текстовом виде (по умолчанию);\n",
    "                b — открыть в бинарном виде.\n",
    "        encoding — указание, в какой кодировке файл записан (utf8, cp1251 и т. д.) По умолчанию стоит utf-8. При этом можно записывать кодировку как через дефис, так и без: utf-8 или utf8.\n"
   ]
  },
  {
   "cell_type": "code",
   "execution_count": 11,
   "metadata": {},
   "outputs": [],
   "source": [
    "# Откроем файл на запись и с помощью метода write запишем в него строку. В качестве результата \n",
    "# метод write возвращает количество записанных символов.\n",
    "\n",
    "f = open('test.txt', 'w', encoding='utf8')\n",
    "\n",
    "# Запишем в файл строку\n",
    "f.write(\"This is a test string\\n\")\n",
    "f.write(\"This is a new string\\n\")\n",
    "\n",
    "# обязательно нужно закрыть файл иначе он будет заблокирован ОС\n",
    "f.close()"
   ]
  },
  {
   "cell_type": "code",
   "execution_count": 22,
   "metadata": {},
   "outputs": [
    {
     "name": "stdout",
     "output_type": "stream",
     "text": [
      "This is a \n",
      "test string\n",
      "This is a new string\n",
      "\n"
     ]
    }
   ],
   "source": [
    "# Откроем файл для чтения, в который только что записали две строки:\n",
    "\n",
    "f = open('test.txt', 'r', encoding='utf8')\n",
    "\n",
    "# прочиаем файл\n",
    "print(f.read(10)) # This is a \n",
    "\n",
    "# считали остаток файла\n",
    "print(f.read()) # test string\\nThis is a new string\\n\n",
    "\n",
    "# После работы обязательно закрываем файл:\n",
    "f.close()\n"
   ]
  },
  {
   "cell_type": "markdown",
   "metadata": {},
   "source": [
    "### Чтение и запись построчно\n",
    "Зачастую с файлами удобнее работать построчно, поэтому для этого есть отдельные методы:\n",
    "\n",
    "        writelines — записывает список строк в файл;\n",
    "        readline — считывает из файла одну строку и возвращает её;\n",
    "        readlines — считывает из файла все строки в список и возвращает их."
   ]
  },
  {
   "cell_type": "code",
   "execution_count": 24,
   "metadata": {},
   "outputs": [],
   "source": [
    "f = open('test.txt', 'a', encoding='utf8') # открываем файл на дозапись\n",
    "\n",
    "sequence = [\"other string\\n\", \"123\\n\", \"test test\\n\"]\n",
    "f.writelines(sequence) # берет строки из sequence и записывает в файл (без переносов)\n",
    "\n",
    "f.close()"
   ]
  },
  {
   "cell_type": "code",
   "execution_count": 25,
   "metadata": {},
   "outputs": [
    {
     "name": "stdout",
     "output_type": "stream",
     "text": [
      "['This is a test string\\n', 'This is a new string\\n', 'other string\\n', '123\\n', 'test test\\n', 'other string\\n', '123\\n', 'test test\\n']\n"
     ]
    }
   ],
   "source": [
    "# Попробуем теперь построчно считать файл с помощью readlines:\n",
    "f = open('test.txt', 'r', encoding='utf8')\n",
    "print(f.readlines()) # считывает все строки в список и возвращает список\n",
    "f.close()"
   ]
  },
  {
   "cell_type": "code",
   "execution_count": 26,
   "metadata": {},
   "outputs": [
    {
     "name": "stdout",
     "output_type": "stream",
     "text": [
      "This is a test string\n",
      "\n",
      "This\n",
      " is a new string\n",
      "\n"
     ]
    }
   ],
   "source": [
    "# Метод f.readline() возвращает строку (символы от текущей позиции до символа переноса строки):\n",
    "\n",
    "f = open('test.txt', 'r', encoding='utf8')\n",
    "\n",
    "print(f.readline()) # This is a test string\n",
    "print(f.read(4)) # This\n",
    "print(f.readline()) # is a new string\n",
    "\n",
    "f.close()"
   ]
  },
  {
   "cell_type": "markdown",
   "metadata": {},
   "source": [
    "### Файл как итератор\n",
    "Объект файл является итератором, поэтому его можно использовать в цикле for.\n",
    "Не стоит считывать файл полностью — в большинстве задач с обработкой текста весь файл разом читать не требуется. В таком случае с файлом работают построчно.\n",
    "Менеджер контекста неявно вызывает закрытие файла после работы, что освобождает вас от забот о том, закрыли ли вы файл или нет. Закрытие файла происходит при любом стечении обстоятельств, даже если внутри with будет ошибка. "
   ]
  },
  {
   "cell_type": "code",
   "execution_count": 28,
   "metadata": {},
   "outputs": [
    {
     "name": "stdout",
     "output_type": "stream",
     "text": [
      "This is a test string\n",
      "This is a new string\n",
      "other string\n",
      "123\n",
      "test test\n",
      "other string\n",
      "123\n",
      "test test\n"
     ]
    }
   ],
   "source": [
    "f = open('test.txt')  # можно перечислять строки в файле\n",
    "for line in f:\n",
    "    print(line, end='')\n",
    "f.close()"
   ]
  },
  {
   "cell_type": "markdown",
   "metadata": {},
   "source": [
    "### Менеджер контекста with"
   ]
  },
  {
   "cell_type": "code",
   "execution_count": 31,
   "metadata": {},
   "outputs": [
    {
     "ename": "ValueError",
     "evalue": "read of closed file",
     "output_type": "error",
     "traceback": [
      "\u001b[0;31m---------------------------------------------------------------------------\u001b[0m",
      "\u001b[0;31mValueError\u001b[0m                                Traceback (most recent call last)",
      "\u001b[0;32m/var/folders/pc/c2w9pn8d3wd__bfxb8w0bzsh0000gn/T/ipykernel_96047/2016168595.py\u001b[0m in \u001b[0;36m<module>\u001b[0;34m\u001b[0m\n\u001b[1;32m      7\u001b[0m     \u001b[0mb\u001b[0m \u001b[0;34m=\u001b[0m \u001b[0mf\u001b[0m\u001b[0;34m.\u001b[0m\u001b[0mread\u001b[0m\u001b[0;34m(\u001b[0m\u001b[0;36m23\u001b[0m\u001b[0;34m)\u001b[0m\u001b[0;34m\u001b[0m\u001b[0;34m\u001b[0m\u001b[0m\n\u001b[1;32m      8\u001b[0m \u001b[0;34m\u001b[0m\u001b[0m\n\u001b[0;32m----> 9\u001b[0;31m \u001b[0mf\u001b[0m\u001b[0;34m.\u001b[0m\u001b[0mread\u001b[0m\u001b[0;34m(\u001b[0m\u001b[0;36m3\u001b[0m\u001b[0;34m)\u001b[0m \u001b[0;31m# Error!\u001b[0m\u001b[0;34m\u001b[0m\u001b[0;34m\u001b[0m\u001b[0m\n\u001b[0m",
      "\u001b[0;31mValueError\u001b[0m: read of closed file"
     ]
    }
   ],
   "source": [
    "# Для явного указания места работы с файлом, а также чтобы не забывать закрывать файл \n",
    "# после обработки, существует менеджер контекста with.\n",
    "\n",
    "# В блоке менеджера контекста открытый файл «жив» и с ним можно работать, при выходе из блока - файл закрывается.\n",
    "with open(\"test.txt\", 'rb') as f:\n",
    "    a = f.read(10)\n",
    "    b = f.read(23)\n",
    "\n",
    "f.read(3) # Error!"
   ]
  },
  {
   "cell_type": "markdown",
   "metadata": {},
   "source": [
    "### Задание 7.4\n",
    "Создайте любой файл на операционной системе под название input.txt и построчно перепишите его в файл output.txt."
   ]
  },
  {
   "cell_type": "code",
   "execution_count": 32,
   "metadata": {},
   "outputs": [
    {
     "ename": "FileNotFoundError",
     "evalue": "[Errno 2] No such file or directory: 'input.txt'",
     "output_type": "error",
     "traceback": [
      "\u001b[0;31m---------------------------------------------------------------------------\u001b[0m",
      "\u001b[0;31mFileNotFoundError\u001b[0m                         Traceback (most recent call last)",
      "\u001b[0;32m/var/folders/pc/c2w9pn8d3wd__bfxb8w0bzsh0000gn/T/ipykernel_96047/4203405667.py\u001b[0m in \u001b[0;36m<module>\u001b[0;34m\u001b[0m\n\u001b[0;32m----> 1\u001b[0;31m \u001b[0;32mwith\u001b[0m \u001b[0mopen\u001b[0m\u001b[0;34m(\u001b[0m\u001b[0;34m\"input.txt\"\u001b[0m\u001b[0;34m,\u001b[0m \u001b[0;34m\"r\"\u001b[0m\u001b[0;34m)\u001b[0m \u001b[0;32mas\u001b[0m \u001b[0minput_file\u001b[0m\u001b[0;34m:\u001b[0m\u001b[0;34m\u001b[0m\u001b[0;34m\u001b[0m\u001b[0m\n\u001b[0m\u001b[1;32m      2\u001b[0m     \u001b[0;32mwith\u001b[0m \u001b[0mopen\u001b[0m\u001b[0;34m(\u001b[0m\u001b[0;34m\"output.txt\"\u001b[0m\u001b[0;34m,\u001b[0m \u001b[0;34m\"w\"\u001b[0m\u001b[0;34m)\u001b[0m \u001b[0;32mas\u001b[0m \u001b[0moutput_file\u001b[0m\u001b[0;34m:\u001b[0m\u001b[0;34m\u001b[0m\u001b[0;34m\u001b[0m\u001b[0m\n\u001b[1;32m      3\u001b[0m         \u001b[0;32mfor\u001b[0m \u001b[0mline\u001b[0m \u001b[0;32min\u001b[0m \u001b[0minput_file\u001b[0m\u001b[0;34m:\u001b[0m\u001b[0;34m\u001b[0m\u001b[0;34m\u001b[0m\u001b[0m\n\u001b[1;32m      4\u001b[0m             \u001b[0moutput_file\u001b[0m\u001b[0;34m.\u001b[0m\u001b[0mwrite\u001b[0m\u001b[0;34m(\u001b[0m\u001b[0mline\u001b[0m\u001b[0;34m)\u001b[0m\u001b[0;34m\u001b[0m\u001b[0;34m\u001b[0m\u001b[0m\n",
      "\u001b[0;31mFileNotFoundError\u001b[0m: [Errno 2] No such file or directory: 'input.txt'"
     ]
    }
   ],
   "source": [
    "with open(\"input.txt\", \"r\") as input_file:\n",
    "    with open(\"output.txt\", \"w\") as output_file:\n",
    "        for line in input_file:\n",
    "            output_file.write(line)"
   ]
  },
  {
   "cell_type": "markdown",
   "metadata": {},
   "source": [
    "### Задание 7.5\n",
    "Дан файл numbers.txt, компоненты которого являются действительными числами (файл создайте самостоятельно и заполните любыми числам, в одной строке одно число). Найдите сумму наибольшего и наименьшего из значений и запишите результат в файл output.txt."
   ]
  },
  {
   "cell_type": "code",
   "execution_count": 33,
   "metadata": {},
   "outputs": [
    {
     "ename": "FileNotFoundError",
     "evalue": "[Errno 2] No such file or directory: 'numbers.txt'",
     "output_type": "error",
     "traceback": [
      "\u001b[0;31m---------------------------------------------------------------------------\u001b[0m",
      "\u001b[0;31mFileNotFoundError\u001b[0m                         Traceback (most recent call last)",
      "\u001b[0;32m/var/folders/pc/c2w9pn8d3wd__bfxb8w0bzsh0000gn/T/ipykernel_96047/494236516.py\u001b[0m in \u001b[0;36m<module>\u001b[0;34m\u001b[0m\n\u001b[1;32m      2\u001b[0m \u001b[0moutput\u001b[0m \u001b[0;34m=\u001b[0m \u001b[0;34m'output.txt'\u001b[0m\u001b[0;34m\u001b[0m\u001b[0;34m\u001b[0m\u001b[0m\n\u001b[1;32m      3\u001b[0m \u001b[0;34m\u001b[0m\u001b[0m\n\u001b[0;32m----> 4\u001b[0;31m \u001b[0;32mwith\u001b[0m \u001b[0mopen\u001b[0m\u001b[0;34m(\u001b[0m\u001b[0mfilename\u001b[0m\u001b[0;34m)\u001b[0m \u001b[0;32mas\u001b[0m \u001b[0mf\u001b[0m\u001b[0;34m:\u001b[0m\u001b[0;34m\u001b[0m\u001b[0;34m\u001b[0m\u001b[0m\n\u001b[0m\u001b[1;32m      5\u001b[0m     \u001b[0mmin_\u001b[0m \u001b[0;34m=\u001b[0m \u001b[0mmax_\u001b[0m \u001b[0;34m=\u001b[0m \u001b[0mfloat\u001b[0m\u001b[0;34m(\u001b[0m\u001b[0mf\u001b[0m\u001b[0;34m.\u001b[0m\u001b[0mreadline\u001b[0m\u001b[0;34m(\u001b[0m\u001b[0;34m)\u001b[0m\u001b[0;34m)\u001b[0m  \u001b[0;31m# считали первое число\u001b[0m\u001b[0;34m\u001b[0m\u001b[0;34m\u001b[0m\u001b[0m\n\u001b[1;32m      6\u001b[0m     \u001b[0;32mfor\u001b[0m \u001b[0mline\u001b[0m \u001b[0;32min\u001b[0m \u001b[0mf\u001b[0m\u001b[0;34m:\u001b[0m\u001b[0;34m\u001b[0m\u001b[0;34m\u001b[0m\u001b[0m\n",
      "\u001b[0;31mFileNotFoundError\u001b[0m: [Errno 2] No such file or directory: 'numbers.txt'"
     ]
    }
   ],
   "source": [
    "filename = 'numbers.txt'\n",
    "output = 'output.txt'\n",
    "\n",
    "with open(filename) as f:\n",
    "    min_ = max_ = float(f.readline())  # считали первое число\n",
    "    for line in f:\n",
    "        num =  float(line)\n",
    "        if num > max_:\n",
    "            max_ = num\n",
    "        elif num < min_:\n",
    "            min_ = num\n",
    "\n",
    "    sum_ = min_ + max_\n",
    "\n",
    "with open(output, 'w') as f:\n",
    "    f.write(str(sum_))\n",
    "    f.write('\\n')"
   ]
  },
  {
   "cell_type": "markdown",
   "metadata": {},
   "source": [
    "### Задание 7.6\n",
    "В текстовый файл построчно записаны фамилии и имена учащихся класса и их оценки за контрольную. Подсчитайте количество учащихся, чья оценка меньше 3 баллов. Cодержание файла:\n",
    "Иванов О. 4\n",
    "Петров И. 3\n",
    "Дмитриев Н. 2\n",
    "Смирнова О. 4\n",
    "Керченских В. 5\n",
    "Котов Д. 2\n",
    "Бирюкова Н. 1\n",
    "Данилов П. 3\n",
    "Аранских В. 5\n",
    "Лемонов Ю. 2\n",
    "Олегова К. 4"
   ]
  },
  {
   "cell_type": "code",
   "execution_count": 34,
   "metadata": {},
   "outputs": [
    {
     "ename": "FileNotFoundError",
     "evalue": "[Errno 2] No such file or directory: 'input.txt'",
     "output_type": "error",
     "traceback": [
      "\u001b[0;31m---------------------------------------------------------------------------\u001b[0m",
      "\u001b[0;31mFileNotFoundError\u001b[0m                         Traceback (most recent call last)",
      "\u001b[0;32m/var/folders/pc/c2w9pn8d3wd__bfxb8w0bzsh0000gn/T/ipykernel_96047/3968328032.py\u001b[0m in \u001b[0;36m<module>\u001b[0;34m\u001b[0m\n\u001b[1;32m      1\u001b[0m \u001b[0mcount\u001b[0m \u001b[0;34m=\u001b[0m \u001b[0;36m0\u001b[0m\u001b[0;34m\u001b[0m\u001b[0;34m\u001b[0m\u001b[0m\n\u001b[0;32m----> 2\u001b[0;31m \u001b[0;32mfor\u001b[0m \u001b[0mline\u001b[0m \u001b[0;32min\u001b[0m \u001b[0mopen\u001b[0m\u001b[0;34m(\u001b[0m\u001b[0;34m\"input.txt\"\u001b[0m\u001b[0;34m)\u001b[0m\u001b[0;34m:\u001b[0m\u001b[0;34m\u001b[0m\u001b[0;34m\u001b[0m\u001b[0m\n\u001b[0m\u001b[1;32m      3\u001b[0m     \u001b[0mpoints\u001b[0m \u001b[0;34m=\u001b[0m \u001b[0mint\u001b[0m\u001b[0;34m(\u001b[0m\u001b[0mline\u001b[0m\u001b[0;34m.\u001b[0m\u001b[0msplit\u001b[0m\u001b[0;34m(\u001b[0m\u001b[0;34m)\u001b[0m\u001b[0;34m[\u001b[0m\u001b[0;34m-\u001b[0m\u001b[0;36m1\u001b[0m\u001b[0;34m]\u001b[0m\u001b[0;34m)\u001b[0m\u001b[0;34m\u001b[0m\u001b[0;34m\u001b[0m\u001b[0m\n\u001b[1;32m      4\u001b[0m     \u001b[0;32mif\u001b[0m \u001b[0mpoints\u001b[0m \u001b[0;34m<\u001b[0m \u001b[0;36m3\u001b[0m\u001b[0;34m:\u001b[0m\u001b[0;34m\u001b[0m\u001b[0;34m\u001b[0m\u001b[0m\n\u001b[1;32m      5\u001b[0m         \u001b[0mcount\u001b[0m \u001b[0;34m+=\u001b[0m \u001b[0;36m1\u001b[0m\u001b[0;34m\u001b[0m\u001b[0;34m\u001b[0m\u001b[0m\n",
      "\u001b[0;31mFileNotFoundError\u001b[0m: [Errno 2] No such file or directory: 'input.txt'"
     ]
    }
   ],
   "source": [
    "count = 0\n",
    "for line in open(\"input.txt\"):\n",
    "    points = int(line.split()[-1])\n",
    "    if points < 3:\n",
    "        count += 1"
   ]
  },
  {
   "cell_type": "markdown",
   "metadata": {},
   "source": [
    "### Задание 7.7\n",
    "Выполните реверсирование строк файла (перестановку строк файла в обратном порядке)."
   ]
  },
  {
   "cell_type": "code",
   "execution_count": 35,
   "metadata": {},
   "outputs": [
    {
     "ename": "FileNotFoundError",
     "evalue": "[Errno 2] No such file or directory: 'input.txt'",
     "output_type": "error",
     "traceback": [
      "\u001b[0;31m---------------------------------------------------------------------------\u001b[0m",
      "\u001b[0;31mFileNotFoundError\u001b[0m                         Traceback (most recent call last)",
      "\u001b[0;32m/var/folders/pc/c2w9pn8d3wd__bfxb8w0bzsh0000gn/T/ipykernel_96047/382190740.py\u001b[0m in \u001b[0;36m<module>\u001b[0;34m\u001b[0m\n\u001b[0;32m----> 1\u001b[0;31m \u001b[0;32mwith\u001b[0m \u001b[0mopen\u001b[0m\u001b[0;34m(\u001b[0m\u001b[0;34m\"input.txt\"\u001b[0m\u001b[0;34m,\u001b[0m \u001b[0;34m\"r\"\u001b[0m\u001b[0;34m)\u001b[0m \u001b[0;32mas\u001b[0m \u001b[0minput_file\u001b[0m\u001b[0;34m:\u001b[0m\u001b[0;34m\u001b[0m\u001b[0;34m\u001b[0m\u001b[0m\n\u001b[0m\u001b[1;32m      2\u001b[0m     \u001b[0;32mwith\u001b[0m \u001b[0mopen\u001b[0m\u001b[0;34m(\u001b[0m\u001b[0;34m\"output.txt\"\u001b[0m\u001b[0;34m,\u001b[0m \u001b[0;34m\"w\"\u001b[0m\u001b[0;34m)\u001b[0m \u001b[0;32mas\u001b[0m \u001b[0moutput_file\u001b[0m\u001b[0;34m:\u001b[0m\u001b[0;34m\u001b[0m\u001b[0;34m\u001b[0m\u001b[0m\n\u001b[1;32m      3\u001b[0m         \u001b[0;32mfor\u001b[0m \u001b[0mline\u001b[0m \u001b[0;32min\u001b[0m \u001b[0mreversed\u001b[0m\u001b[0;34m(\u001b[0m\u001b[0minput_file\u001b[0m\u001b[0;34m.\u001b[0m\u001b[0mreadlines\u001b[0m\u001b[0;34m(\u001b[0m\u001b[0;34m)\u001b[0m\u001b[0;34m)\u001b[0m\u001b[0;34m:\u001b[0m\u001b[0;34m\u001b[0m\u001b[0;34m\u001b[0m\u001b[0m\n\u001b[1;32m      4\u001b[0m             \u001b[0moutput_file\u001b[0m\u001b[0;34m.\u001b[0m\u001b[0mwrite\u001b[0m\u001b[0;34m(\u001b[0m\u001b[0mline\u001b[0m\u001b[0;34m)\u001b[0m\u001b[0;34m\u001b[0m\u001b[0;34m\u001b[0m\u001b[0m\n",
      "\u001b[0;31mFileNotFoundError\u001b[0m: [Errno 2] No such file or directory: 'input.txt'"
     ]
    }
   ],
   "source": [
    "with open(\"input.txt\", \"r\") as input_file:\n",
    "    with open(\"output.txt\", \"w\") as output_file:\n",
    "        for line in reversed(input_file.readlines()):\n",
    "            output_file.write(line)"
   ]
  },
  {
   "cell_type": "markdown",
   "metadata": {},
   "source": [
    "### Исключения\n",
    "это такие ошибки, которые возникают не во время компиляции программы, а в процессе её исполнения, в случаях, если что-то идёт не так.\n",
    "\n",
    "\n",
    "    try:\n",
    "        *ваш код*\n",
    "    except Ошибка:\n",
    "        *Код отлова*\n",
    "    else:\n",
    "        *Код, который выполнится если всё хорошо прошло в блоке try*\n",
    "    finally:\n",
    "        *Код, который выполнится по любому*\n"
   ]
  },
  {
   "cell_type": "code",
   "execution_count": 36,
   "metadata": {},
   "outputs": [
    {
     "name": "stdout",
     "output_type": "stream",
     "text": [
      "Перед исключением\n",
      "0.1\n",
      "После После исключения\n"
     ]
    }
   ],
   "source": [
    "try:  # Добавляем конструкцию try-except для отлова нашей ошибки\n",
    "    print(\"Перед исключением\")\n",
    "    # теперь пользователь сам вводит числа для деления\n",
    "    a = int(input(\"a: \"))\n",
    "    b = int(input(\"b: \"))\n",
    "    c = a / b  # здесь может возникнуть исключение деления на ноль\n",
    "    print(c)  # печатаем c = a / b если всё хорошо\n",
    "except ZeroDivisionError as e: # Добавляем тип именно той ошибки, которую хотим отловить.     \n",
    "    print(e)  # Выводим информацию об ошибке\n",
    "    print(\"После исключения\")\n",
    " \n",
    "print(\"После После исключения\")"
   ]
  },
  {
   "cell_type": "code",
   "execution_count": 37,
   "metadata": {},
   "outputs": [
    {
     "name": "stdout",
     "output_type": "stream",
     "text": [
      "Перед исключением\n",
      "После исключения\n",
      "Finally на месте\n",
      "После После исключения\n"
     ]
    }
   ],
   "source": [
    "try:\n",
    "    print(\"Перед исключением\")\n",
    "    a = int(input(\"a: \"))\n",
    "    b = int(input(\"b: \"))\n",
    "    c = a / b\n",
    "    print(c)  # печатаем c = a / b если всё хорошо\n",
    "except ZeroDivisionError as e:\n",
    "    print(\"После исключения\")\n",
    "else:  # код в блоке else выполняется только в том случае, если код в блоке try выполнился успешно (т.е. не вылетело никакого исключения).\n",
    "    print(\"Всё ништяк\")\n",
    "finally:  # код в блоке finally выполнится в любом случае, при выходе из try-except\n",
    "    print(\"Finally на месте\")\n",
    " \n",
    "print(\"После После исключения\")"
   ]
  },
  {
   "cell_type": "code",
   "execution_count": 38,
   "metadata": {},
   "outputs": [
    {
     "name": "stdout",
     "output_type": "stream",
     "text": [
      "Тебе 50 лет!\n"
     ]
    }
   ],
   "source": [
    "age = int(input(\"Сколько тебе лет?\"))\n",
    " \n",
    "if age > 100 or age <= 0:\n",
    "    raise ValueError(\"Тебе не может быть столько лет\")\n",
    " \n",
    "print(f\"Тебе {age} лет!\") # Возраст выводится только если пользователь ввёл правильный возраст."
   ]
  },
  {
   "cell_type": "markdown",
   "metadata": {},
   "source": [
    "Raise"
   ]
  },
  {
   "cell_type": "code",
   "execution_count": 39,
   "metadata": {},
   "outputs": [
    {
     "name": "stdout",
     "output_type": "stream",
     "text": [
      "Тебе 50 лет!\n"
     ]
    }
   ],
   "source": [
    "try:\n",
    "    age = int(input(\"Сколько тебе лет?\"))\n",
    "\n",
    "    if age > 100 or age <= 0:\n",
    "        raise ValueError(\"Тебе не может быть столько лет\")\n",
    "\n",
    "    # Возраст выводится только если пользователь ввёл правильный возраст.\n",
    "    print(f\"Тебе {age} лет!\")\n",
    "except ValueError:\n",
    "    print(\"Неправильный возраст\")"
   ]
  },
  {
   "cell_type": "markdown",
   "metadata": {},
   "source": [
    "### Задание 8.7\n",
    "Создать скрипт, который будет в input() принимать строки, и их необходимо будет конвертировать в числа, добавить try-except на то, чтобы строки могли быть сконвертированы в числа.\n",
    "В случае удачного выполнения скрипта написать: «Вы ввели <введённое число>».\n",
    "В конце скрипта обязательно написать: «Выход из программы».\n",
    "\n",
    "ПРИМЕЧАНИЕ: Для отлова ошибок используйте try-except, а также блоки finally и else.\n",
    "\n",
    "Примеры входов и выходов:\n",
    "    Входные данные \tВыходные данные\n",
    "\n",
    "    1 \t\n",
    "\n",
    "    Вы ввели 1\n",
    "    Выход из программы\n",
    "\n",
    "    -3 \t\n",
    "\n",
    "    Вы ввели -3\n",
    "    Выход из программы\n",
    "\n",
    "    razdvatri \t\n",
    "\n",
    "    Вы ввели неправильное число\n",
    "    Выход из программы"
   ]
  },
  {
   "cell_type": "code",
   "execution_count": 40,
   "metadata": {},
   "outputs": [
    {
     "name": "stdout",
     "output_type": "stream",
     "text": [
      "Вы ввели 5\n",
      "Выход из программы\n"
     ]
    }
   ],
   "source": [
    "try:\n",
    "    i = int(input('Введите число:\\t'))\n",
    "except ValueError as e:\n",
    "    print('Вы ввели неправильное число')\n",
    "else:\n",
    "    print(f'Вы ввели {i}')\n",
    "finally:\n",
    "    print('Выход из программы')"
   ]
  },
  {
   "cell_type": "markdown",
   "metadata": {},
   "source": [
    "Ловим более высокую по классу ошибку"
   ]
  },
  {
   "cell_type": "code",
   "execution_count": 41,
   "metadata": {},
   "outputs": [
    {
     "name": "stdout",
     "output_type": "stream",
     "text": [
      "Hello from arithmetic error\n"
     ]
    }
   ],
   "source": [
    "try:\n",
    "    raise ZeroDivisionError  # возбуждаем исключение ZeroDivisionError\n",
    "except ArithmeticError:  # ловим его родителя\n",
    "    print(\"Hello from arithmetic error\")"
   ]
  },
  {
   "cell_type": "code",
   "execution_count": 44,
   "metadata": {},
   "outputs": [
    {
     "name": "stdout",
     "output_type": "stream",
     "text": [
      "Arithmetic error\n"
     ]
    }
   ],
   "source": [
    "# Ловится первая ошибка\n",
    "try:\n",
    "    raise ZeroDivisionError\n",
    "except ArithmeticError:\n",
    "    print(\"Arithmetic error\")\n",
    "except ZeroDivisionError:\n",
    "    print(\"Zero division error\")"
   ]
  },
  {
   "cell_type": "code",
   "execution_count": 45,
   "metadata": {},
   "outputs": [
    {
     "name": "stdout",
     "output_type": "stream",
     "text": [
      "Zero division error\n"
     ]
    }
   ],
   "source": [
    "# вот так надо было\n",
    "try:\n",
    "    raise ZeroDivisionError\n",
    "except ZeroDivisionError:  # сначала пытаемся поймать потомка\n",
    "    print(\"Zero division error\")\n",
    "except ArithmeticError:  # потом ловим родителя\n",
    "    print(\"Arithmetic error\")"
   ]
  },
  {
   "cell_type": "code",
   "execution_count": 42,
   "metadata": {},
   "outputs": [
    {
     "ename": "SyntaxError",
     "evalue": "invalid syntax (1539568148.py, line 5)",
     "output_type": "error",
     "traceback": [
      "\u001b[0;36m  File \u001b[0;32m\"/var/folders/pc/c2w9pn8d3wd__bfxb8w0bzsh0000gn/T/ipykernel_96047/1539568148.py\"\u001b[0;36m, line \u001b[0;32m5\u001b[0m\n\u001b[0;31m    *код которые мог вызывать ошибку*\u001b[0m\n\u001b[0m         ^\u001b[0m\n\u001b[0;31mSyntaxError\u001b[0m\u001b[0;31m:\u001b[0m invalid syntax\n"
     ]
    }
   ],
   "source": [
    "# а вот так лучше не делать (но иногда можно :) )\n",
    "\n",
    "# пример из реального проекта\n",
    "try:\n",
    "    *код которые мог вызывать ошибку*\n",
    "except Exception:\n",
    "    pass"
   ]
  },
  {
   "cell_type": "code",
   "execution_count": null,
   "metadata": {},
   "outputs": [],
   "source": []
  },
  {
   "cell_type": "markdown",
   "metadata": {},
   "source": [
    "### Принцип написания и отлова собственного исключения следующий:\n",
    "\n",
    "    class MyException(Exception):  # создаём пустой класс исключения \n",
    "        pass    \n",
    "    try:\n",
    "        raise MyException(\"message\")  # поднимаем наше исключение\n",
    "    except MyException as e:  # ловим его\n",
    "        print(e)  # выводим информацию об исключении"
   ]
  },
  {
   "cell_type": "code",
   "execution_count": 46,
   "metadata": {},
   "outputs": [
    {
     "name": "stdout",
     "output_type": "stream",
     "text": [
      "message\n"
     ]
    }
   ],
   "source": [
    "# Наследуются исключения для того, чтобы можно было, продолжая всё тот же пример, отлавливать \n",
    "# отдельно игровые исключения и отдельно исключения, касающиеся ресурсов (закончилась оперативная \n",
    "# память, место на диске и так далее. Давайте теперь попробуем построить собственные исключения с наследованием:\n",
    "\n",
    "class ParentException(Exception):  # создаём пустой класс исключения, наследуемся от exception\n",
    "    pass\n",
    "class ChildException(ParentException):  # создаём пустой класс исключения-потомка, наследуемся от ParentException\n",
    "    pass\n",
    "try:\n",
    "    raise ChildException(\"message\")  # поднимаем исключение-потомок\n",
    "except ParentException as e:  # ловим его родителя\n",
    "    print(e)  # выводим информацию об исключении"
   ]
  },
  {
   "cell_type": "markdown",
   "metadata": {},
   "source": [
    "### Задание 9.5\n",
    "Создайте класс Square. Добавьте в конструктор класса Square собственное исключение NonPositiveDigitException, унаследованное от ValueError, которое будет срабатывать каждый раз, когда сторона квадрата меньше или равна 0."
   ]
  },
  {
   "cell_type": "code",
   "execution_count": 49,
   "metadata": {},
   "outputs": [],
   "source": [
    "class NonPositiveDigitException(ValueError):\n",
    "    pass\n",
    " \n",
    "class Square:\n",
    "    def __init__(self, a):\n",
    "        if a < 0:\n",
    "            raise NonPositiveDigitException('Неправильно указана сторона квадрата')"
   ]
  }
 ],
 "metadata": {
  "interpreter": {
   "hash": "214db4c70b1bc942313b235c1b40c372ae21c2ea84de05ae170b614d30d11a2d"
  },
  "kernelspec": {
   "display_name": "Python 3.9.7 ('base')",
   "language": "python",
   "name": "python3"
  },
  "language_info": {
   "codemirror_mode": {
    "name": "ipython",
    "version": 3
   },
   "file_extension": ".py",
   "mimetype": "text/x-python",
   "name": "python",
   "nbconvert_exporter": "python",
   "pygments_lexer": "ipython3",
   "version": "3.9.7"
  },
  "orig_nbformat": 4
 },
 "nbformat": 4,
 "nbformat_minor": 2
}
